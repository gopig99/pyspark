{
  "nbformat": 4,
  "nbformat_minor": 0,
  "metadata": {
    "colab": {
      "provenance": []
    },
    "kernelspec": {
      "name": "python3",
      "display_name": "Python 3"
    },
    "language_info": {
      "name": "python"
    }
  },
  "cells": [
    {
      "cell_type": "code",
      "execution_count": 20,
      "metadata": {
        "colab": {
          "base_uri": "https://localhost:8080/"
        },
        "id": "pa5WKynKACJK",
        "outputId": "6656d3fb-5e6b-47dc-cbbb-93e83da0875b"
      },
      "outputs": [
        {
          "output_type": "stream",
          "name": "stdout",
          "text": [
            "Looking in indexes: https://pypi.org/simple, https://us-python.pkg.dev/colab-wheels/public/simple/\n",
            "Requirement already satisfied: pyspark in /usr/local/lib/python3.10/dist-packages (3.4.0)\n",
            "Requirement already satisfied: py4j==0.10.9.7 in /usr/local/lib/python3.10/dist-packages (from pyspark) (0.10.9.7)\n"
          ]
        }
      ],
      "source": [
        "!pip install pyspark"
      ]
    },
    {
      "cell_type": "code",
      "source": [
        "import pyspark\n",
        "import pandas as pd\n",
        "from pyspark.sql import SparkSession"
      ],
      "metadata": {
        "id": "kSnH7Lk0AITU"
      },
      "execution_count": 21,
      "outputs": []
    },
    {
      "cell_type": "code",
      "source": [
        "spark = SparkSession.builder.appName(\"practise\").getOrCreate()\n",
        "spark"
      ],
      "metadata": {
        "colab": {
          "base_uri": "https://localhost:8080/",
          "height": 219
        },
        "id": "XXCSkAuQAmFS",
        "outputId": "cf91f45c-427a-41a7-f3d6-57c0d6d69795"
      },
      "execution_count": 22,
      "outputs": [
        {
          "output_type": "execute_result",
          "data": {
            "text/plain": [
              "<pyspark.sql.session.SparkSession at 0x7f4b796ab940>"
            ],
            "text/html": [
              "\n",
              "            <div>\n",
              "                <p><b>SparkSession - in-memory</b></p>\n",
              "                \n",
              "        <div>\n",
              "            <p><b>SparkContext</b></p>\n",
              "\n",
              "            <p><a href=\"http://0162352044f5:4040\">Spark UI</a></p>\n",
              "\n",
              "            <dl>\n",
              "              <dt>Version</dt>\n",
              "                <dd><code>v3.4.0</code></dd>\n",
              "              <dt>Master</dt>\n",
              "                <dd><code>local[*]</code></dd>\n",
              "              <dt>AppName</dt>\n",
              "                <dd><code>practise</code></dd>\n",
              "            </dl>\n",
              "        </div>\n",
              "        \n",
              "            </div>\n",
              "        "
            ]
          },
          "metadata": {},
          "execution_count": 22
        }
      ]
    },
    {
      "cell_type": "code",
      "source": [
        "df = spark.read.csv(\"/content/data.csv\")\n",
        "df"
      ],
      "metadata": {
        "colab": {
          "base_uri": "https://localhost:8080/"
        },
        "id": "UV6BI4jNA03F",
        "outputId": "36d93208-e586-4929-ea9f-1b2fbfae47ee"
      },
      "execution_count": 23,
      "outputs": [
        {
          "output_type": "execute_result",
          "data": {
            "text/plain": [
              "DataFrame[_c0: string, _c1: string, _c2: string, _c3: string, _c4: string, _c5: string, _c6: string, _c7: string, _c8: string, _c9: string, _c10: string, _c11: string, _c12: string, _c13: string, _c14: string, _c15: string, _c16: string, _c17: string, _c18: string, _c19: string, _c20: string, _c21: string, _c22: string, _c23: string]"
            ]
          },
          "metadata": {},
          "execution_count": 23
        }
      ]
    },
    {
      "cell_type": "code",
      "source": [
        "df.show()"
      ],
      "metadata": {
        "colab": {
          "base_uri": "https://localhost:8080/"
        },
        "id": "OUi9gpJ9CPaV",
        "outputId": "e09f84cc-f67c-43a1-f9d8-b7be606d3c8a"
      },
      "execution_count": 24,
      "outputs": [
        {
          "output_type": "stream",
          "name": "stdout",
          "text": [
            "+------+---------------+----------+----------+--------------+-----------+----------------+-----------+-------------+---------------+-------------+-----------+------+------------+----------------+---------------+------------+--------------------+--------+--------+--------+-------------+----------+--------------+\n",
            "|   _c0|            _c1|       _c2|       _c3|           _c4|        _c5|             _c6|        _c7|          _c8|            _c9|         _c10|       _c11|  _c12|        _c13|            _c14|           _c15|        _c16|                _c17|    _c18|    _c19|    _c20|         _c21|      _c22|          _c23|\n",
            "+------+---------------+----------+----------+--------------+-----------+----------------+-----------+-------------+---------------+-------------+-----------+------+------------+----------------+---------------+------------+--------------------+--------+--------+--------+-------------+----------+--------------+\n",
            "|ROW ID|       Order ID|Order Date| Ship Date|     Ship Mode|Customer ID|   Customer Name|    Segment|         City|          State|      Country|Postal Code|Market|      Region|      Product ID|       Category|Sub-Category|        Product Name|   Sales|Quantity|Discount|Shipping Cost|    Profit|Order Priority|\n",
            "| 26341| CA-2012-124891| 31-7-2012| 31-7-2012|      Same Day|   RH-19495|     Rick Hansen|   Consumer|New York City|       New York|United States|      10024|    US|        East| TEC-AC-10003033|     Technology| Accessories|Plantronics CS510...| 2309.65|       7|       0|      933.57 |  762.1845|      Critical|\n",
            "| 26341|  IN-2013-77878|  5-2-2013|  7-2-2013|  Second Class|   JR-16210|   Justin Ritter|  Corporate|   Wollongong|New South Wales|    Australia|       null|  APAC|     Oceania| FUR-CH-10003950|      Furniture|      Chairs|Novimex Executive...|3709.395|       9|     0.1|      923.63 |  -288.765|      Critical|\n",
            "| 25330|  IN-2013-71249|17-10-2013|18-10-2013|   First Class|   CR-12730|    Craig Reiter|   Consumer|     Brisbane|     Queensland|    Australia|       null|  APAC|     Oceania| TEC-PH-10004664|     Technology|      Phones|Nokia Smart Phone...|5175.171|       9|     0.1|      915.49 |   919.971|        Medium|\n",
            "| 13524|ES-2013-1579342| 28-1-2013| 30-1-2013|   First Class|   KM-16375|Katherine Murray|Home Office|       Berlin|         Berlin|      Germany|       null|    EU|     Central| TEC-PH-10004583|     Technology|      Phones|Motorola Smart Ph...| 2892.51|       5|     0.1|      910.16 |    -96.54|        Medium|\n",
            "| 47221|   SG-2013-4320| 5-11-2013| 6-11-2013|      Same Day|    RH-9495|     Rick Hansen|   Consumer|        Dakar|          Dakar|      Senegal|       null|Africa|      Africa|TEC-SHA-10000501|     Technology|     Copiers|Sharp Wireless Fa...| 2832.96|       8|       0|      903.04 |    311.52|      Critical|\n",
            "| 22732|  IN-2013-42360| 28-6-2013|  1-7-2013|  Second Class|   JM-15655|     Jim Mitchum|  Corporate|       Sydney|New South Wales|    Australia|       null|  APAC|     Oceania| TEC-PH-10000030|     Technology|      Phones|Samsung Smart Pho...|2862.675|       5|     0.1|      897.35 |   763.275|      Critical|\n",
            "| 30570|  IN-2011-81826| 7-11-2011| 9-11-2011|   First Class|   TS-21340|   Toby Swindell|   Consumer|      Porirua|     Wellington|  New Zealand|       null|  APAC|     Oceania| FUR-CH-10004050|      Furniture|      Chairs|Novimex Executive...| 1822.08|       4|       0|       894.77|    564.84|      Critical|\n",
            "| 31192|  IN-2012-86369| 14-4-2012| 18-4-2012|Standard Class|   MB-18085|      Mick Brown|   Consumer|     Hamilton|        Waikato|  New Zealand|       null|  APAC|     Oceania| FUR-TA-10002958|      Furniture|      Tables|Chromcraft Confer...| 5244.84|       6|       0|       878.38|    996.48|          High|\n",
            "| 40155| CA-2014-135909|14-10-2014|21-10-2014|Standard Class|   JW-15220|       Jane Waco|  Corporate|   Sacramento|     California|United States|      95823|    US|        West| OFF-BI-10003527|Office Supplies|     Binders|Fellowes PB500 El...| 5083.96|       5|     0.2|      867.69 |  1906.485|           Low|\n",
            "| 40936| CA-2012-116638| 28-1-2012| 31-1-2012|  Second Class|   JH-15985|     Joseph Holt|   Consumer|      Concord| North Carolina|United States|      28027|    US|       South| FUR-TA-10000198|      Furniture|      Tables|Chromcraft Bull-N...|4297.644|      13|     0.4|      865.74 |-1862.3124|      Critical|\n",
            "| 34577| CA-2011-102988|  5-4-2011|  9-4-2011|  Second Class|   GM-14695|    Greg Maxwell|  Corporate|   Alexandria|       Virginia|United States|      22304|    US|       South| OFF-SU-10002881|Office Supplies|    Supplies|Martin Yale Chadl...| 4164.05|       5|       0|      846.54 |    83.281|          High|\n",
            "| 28879|  ID-2012-28402| 19-4-2012| 22-4-2012|   First Class|   AJ-10780|  Anthony Jacobs|  Corporate|        Kabul|          Kabul|  Afghanistan|       null|  APAC|Central Asia| FUR-TA-10001889|      Furniture|      Tables|Bevis Conference ...| 4626.15|       5|       0|      835.57 |    647.55|          High|\n",
            "| 45794|   SA-2011-1830|27-12-2011|29-12-2011|  Second Class|    MM-7260| Magdelene Morse|   Consumer|        Jizan|          Jizan| Saudi Arabia|       null|  EMEA|        EMEA|TEC-CIS-10001717|     Technology|      Phones|Cisco Smart Phone...| 2616.96|       4|       0|      832.41 |    1151.4|      Critical|\n",
            "|  4132| MX-2012-130015|13-11-2012|13-11-2012|      Same Day|   VF-21715|  Vicky Freymann|Home Office|       Toledo|         Parana|       Brazil|       null| LATAM|       South| FUR-CH-10002033|      Furniture|      Chairs|Harbour Creations...|  2221.8|       7|       0|      810.25 |    622.02|      Critical|\n",
            "| 27704|  IN-2013-73951|  6-6-2013|  8-6-2013|  Second Class|   PF-19120|    Peter Fuller|   Consumer|   Mudanjiang|   Heilongjiang|        China|       null|  APAC|  North Asia| OFF-AP-10003500|Office Supplies|  Appliances|KitchenAid Microw...| 3701.52|      12|       0|      804.54 |   1036.08|      Critical|\n",
            "| 13779|ES-2014-5099955| 31-7-2014|  3-8-2014|  Second Class|   BP-11185|    Ben Peterman|  Corporate|        Paris|  Ile-de-France|       France|       null|    EU|     Central| OFF-AP-10000423|Office Supplies|  Appliances|Breville Refriger...|1869.588|       4|     0.1|      801.66 |   186.948|      Critical|\n",
            "| 36178| CA-2014-143567| 3-11-2014| 6-11-2014|  Second Class|   TB-21175|   Thomas Boland|  Corporate|    Henderson|       Kentucky|United States|      42420|    US|       South| TEC-AC-10004145|     Technology| Accessories|Logitech diNovo E...| 2249.91|       9|       0|      780.70 |  517.4793|      Critical|\n",
            "| 12069|ES-2014-1651774|  8-9-2014| 14-9-2014|Standard Class|   PJ-18835|   Patrick Jones|  Corporate|        Prato|        Tuscany|        Italy|       null|    EU|       South| OFF-AP-10004512|Office Supplies|  Appliances|   Hoover Stove, Red| 7958.58|      14|       0|      778.32 |   3979.08|           Low|\n",
            "| 22096|  IN-2014-11763| 31-1-2014|  1-2-2014|   First Class|   JS-15685|        Jim Sink|  Corporate|   Townsville|     Queensland|    Australia|       null|  APAC|     Oceania| TEC-CO-10000865|     Technology|     Copiers|Brother Fax Machi...|2565.594|       9|     0.1|      766.93 |    28.404|      Critical|\n",
            "+------+---------------+----------+----------+--------------+-----------+----------------+-----------+-------------+---------------+-------------+-----------+------+------------+----------------+---------------+------------+--------------------+--------+--------+--------+-------------+----------+--------------+\n",
            "only showing top 20 rows\n",
            "\n"
          ]
        }
      ]
    },
    {
      "cell_type": "code",
      "source": [
        "df.head(4)"
      ],
      "metadata": {
        "colab": {
          "base_uri": "https://localhost:8080/"
        },
        "id": "Gyu1CLv4Ciyp",
        "outputId": "4b9877e4-127d-4b81-cf50-5df09da36f1b"
      },
      "execution_count": 25,
      "outputs": [
        {
          "output_type": "execute_result",
          "data": {
            "text/plain": [
              "[Row(_c0='ROW ID', _c1='Order ID', _c2='Order Date', _c3='Ship Date', _c4='Ship Mode', _c5='Customer ID', _c6='Customer Name', _c7='Segment', _c8='City', _c9='State', _c10='Country', _c11='Postal Code', _c12='Market', _c13='Region', _c14='Product ID', _c15='Category', _c16='Sub-Category', _c17='Product Name', _c18='Sales', _c19='Quantity', _c20='Discount', _c21='Shipping Cost', _c22='Profit', _c23='Order Priority'),\n",
              " Row(_c0='26341', _c1='CA-2012-124891', _c2='31-7-2012', _c3='31-7-2012', _c4='Same Day', _c5='RH-19495', _c6='Rick Hansen', _c7='Consumer', _c8='New York City', _c9='New York', _c10='United States', _c11='10024', _c12='US', _c13='East', _c14='TEC-AC-10003033', _c15='Technology', _c16='Accessories', _c17='Plantronics CS510 - Over-the-Head monaural Wireless Headset System', _c18='2309.65', _c19='7', _c20='0', _c21=' 933.57 ', _c22='762.1845', _c23='Critical'),\n",
              " Row(_c0='26341', _c1='IN-2013-77878', _c2='5-2-2013', _c3='7-2-2013', _c4='Second Class', _c5='JR-16210', _c6='Justin Ritter', _c7='Corporate', _c8='Wollongong', _c9='New South Wales', _c10='Australia', _c11=None, _c12='APAC', _c13='Oceania', _c14='FUR-CH-10003950', _c15='Furniture', _c16='Chairs', _c17='Novimex Executive Leather Armchair, Black', _c18='3709.395', _c19='9', _c20='0.1', _c21=' 923.63 ', _c22='-288.765', _c23='Critical'),\n",
              " Row(_c0='25330', _c1='IN-2013-71249', _c2='17-10-2013', _c3='18-10-2013', _c4='First Class', _c5='CR-12730', _c6='Craig Reiter', _c7='Consumer', _c8='Brisbane', _c9='Queensland', _c10='Australia', _c11=None, _c12='APAC', _c13='Oceania', _c14='TEC-PH-10004664', _c15='Technology', _c16='Phones', _c17='Nokia Smart Phone, with Caller ID', _c18='5175.171', _c19='9', _c20='0.1', _c21=' 915.49 ', _c22='919.971', _c23='Medium')]"
            ]
          },
          "metadata": {},
          "execution_count": 25
        }
      ]
    },
    {
      "cell_type": "code",
      "source": [
        "df.printSchema()"
      ],
      "metadata": {
        "colab": {
          "base_uri": "https://localhost:8080/"
        },
        "id": "QRqiVpubCuNj",
        "outputId": "65ba6135-b9a8-4103-afeb-c7c227703945"
      },
      "execution_count": 26,
      "outputs": [
        {
          "output_type": "stream",
          "name": "stdout",
          "text": [
            "root\n",
            " |-- _c0: string (nullable = true)\n",
            " |-- _c1: string (nullable = true)\n",
            " |-- _c2: string (nullable = true)\n",
            " |-- _c3: string (nullable = true)\n",
            " |-- _c4: string (nullable = true)\n",
            " |-- _c5: string (nullable = true)\n",
            " |-- _c6: string (nullable = true)\n",
            " |-- _c7: string (nullable = true)\n",
            " |-- _c8: string (nullable = true)\n",
            " |-- _c9: string (nullable = true)\n",
            " |-- _c10: string (nullable = true)\n",
            " |-- _c11: string (nullable = true)\n",
            " |-- _c12: string (nullable = true)\n",
            " |-- _c13: string (nullable = true)\n",
            " |-- _c14: string (nullable = true)\n",
            " |-- _c15: string (nullable = true)\n",
            " |-- _c16: string (nullable = true)\n",
            " |-- _c17: string (nullable = true)\n",
            " |-- _c18: string (nullable = true)\n",
            " |-- _c19: string (nullable = true)\n",
            " |-- _c20: string (nullable = true)\n",
            " |-- _c21: string (nullable = true)\n",
            " |-- _c22: string (nullable = true)\n",
            " |-- _c23: string (nullable = true)\n",
            "\n"
          ]
        }
      ]
    },
    {
      "cell_type": "code",
      "source": [
        "df = spark.read.option(\"header\", \"true\").csv(\"/content/data.csv\")\n",
        "df"
      ],
      "metadata": {
        "colab": {
          "base_uri": "https://localhost:8080/"
        },
        "id": "zJyhyn2vC9c4",
        "outputId": "40ff9daa-1be5-49c5-95e8-42583b436486"
      },
      "execution_count": 27,
      "outputs": [
        {
          "output_type": "execute_result",
          "data": {
            "text/plain": [
              "DataFrame[ROW ID: string, Order ID: string, Order Date: string, Ship Date: string, Ship Mode: string, Customer ID: string, Customer Name: string, Segment: string, City: string, State: string, Country: string, Postal Code: string, Market: string, Region: string, Product ID: string, Category: string, Sub-Category: string, Product Name: string, Sales: string, Quantity: string, Discount: string, Shipping Cost: string, Profit: string, Order Priority: string]"
            ]
          },
          "metadata": {},
          "execution_count": 27
        }
      ]
    },
    {
      "cell_type": "code",
      "source": [
        "df = spark.read.option(\"header\", \"true\").csv(\"/content/data.csv\", inferSchema=True)\n",
        "df.show()"
      ],
      "metadata": {
        "colab": {
          "base_uri": "https://localhost:8080/"
        },
        "id": "Qoe6SVIfE42A",
        "outputId": "6a0b624c-3a23-46d0-eb23-34bd79baac29"
      },
      "execution_count": 28,
      "outputs": [
        {
          "output_type": "stream",
          "name": "stdout",
          "text": [
            "+------+---------------+----------+----------+--------------+-----------+----------------+-----------+-------------+---------------+-------------+-----------+------+------------+----------------+---------------+------------+--------------------+--------+--------+--------+-------------+----------+--------------+\n",
            "|ROW ID|       Order ID|Order Date| Ship Date|     Ship Mode|Customer ID|   Customer Name|    Segment|         City|          State|      Country|Postal Code|Market|      Region|      Product ID|       Category|Sub-Category|        Product Name|   Sales|Quantity|Discount|Shipping Cost|    Profit|Order Priority|\n",
            "+------+---------------+----------+----------+--------------+-----------+----------------+-----------+-------------+---------------+-------------+-----------+------+------------+----------------+---------------+------------+--------------------+--------+--------+--------+-------------+----------+--------------+\n",
            "| 26341| CA-2012-124891| 31-7-2012| 31-7-2012|      Same Day|   RH-19495|     Rick Hansen|   Consumer|New York City|       New York|United States|      10024|    US|        East| TEC-AC-10003033|     Technology| Accessories|Plantronics CS510...| 2309.65|       7|       0|       933.57|  762.1845|      Critical|\n",
            "| 26341|  IN-2013-77878|  5-2-2013|  7-2-2013|  Second Class|   JR-16210|   Justin Ritter|  Corporate|   Wollongong|New South Wales|    Australia|       null|  APAC|     Oceania| FUR-CH-10003950|      Furniture|      Chairs|Novimex Executive...|3709.395|       9|     0.1|       923.63|  -288.765|      Critical|\n",
            "| 25330|  IN-2013-71249|17-10-2013|18-10-2013|   First Class|   CR-12730|    Craig Reiter|   Consumer|     Brisbane|     Queensland|    Australia|       null|  APAC|     Oceania| TEC-PH-10004664|     Technology|      Phones|Nokia Smart Phone...|5175.171|       9|     0.1|       915.49|   919.971|        Medium|\n",
            "| 13524|ES-2013-1579342| 28-1-2013| 30-1-2013|   First Class|   KM-16375|Katherine Murray|Home Office|       Berlin|         Berlin|      Germany|       null|    EU|     Central| TEC-PH-10004583|     Technology|      Phones|Motorola Smart Ph...| 2892.51|       5|     0.1|       910.16|    -96.54|        Medium|\n",
            "| 47221|   SG-2013-4320| 5-11-2013| 6-11-2013|      Same Day|    RH-9495|     Rick Hansen|   Consumer|        Dakar|          Dakar|      Senegal|       null|Africa|      Africa|TEC-SHA-10000501|     Technology|     Copiers|Sharp Wireless Fa...| 2832.96|       8|       0|       903.04|    311.52|      Critical|\n",
            "| 22732|  IN-2013-42360| 28-6-2013|  1-7-2013|  Second Class|   JM-15655|     Jim Mitchum|  Corporate|       Sydney|New South Wales|    Australia|       null|  APAC|     Oceania| TEC-PH-10000030|     Technology|      Phones|Samsung Smart Pho...|2862.675|       5|     0.1|       897.35|   763.275|      Critical|\n",
            "| 30570|  IN-2011-81826| 7-11-2011| 9-11-2011|   First Class|   TS-21340|   Toby Swindell|   Consumer|      Porirua|     Wellington|  New Zealand|       null|  APAC|     Oceania| FUR-CH-10004050|      Furniture|      Chairs|Novimex Executive...| 1822.08|       4|       0|       894.77|    564.84|      Critical|\n",
            "| 31192|  IN-2012-86369| 14-4-2012| 18-4-2012|Standard Class|   MB-18085|      Mick Brown|   Consumer|     Hamilton|        Waikato|  New Zealand|       null|  APAC|     Oceania| FUR-TA-10002958|      Furniture|      Tables|Chromcraft Confer...| 5244.84|       6|       0|       878.38|    996.48|          High|\n",
            "| 40155| CA-2014-135909|14-10-2014|21-10-2014|Standard Class|   JW-15220|       Jane Waco|  Corporate|   Sacramento|     California|United States|      95823|    US|        West| OFF-BI-10003527|Office Supplies|     Binders|Fellowes PB500 El...| 5083.96|       5|     0.2|       867.69|  1906.485|           Low|\n",
            "| 40936| CA-2012-116638| 28-1-2012| 31-1-2012|  Second Class|   JH-15985|     Joseph Holt|   Consumer|      Concord| North Carolina|United States|      28027|    US|       South| FUR-TA-10000198|      Furniture|      Tables|Chromcraft Bull-N...|4297.644|      13|     0.4|       865.74|-1862.3124|      Critical|\n",
            "| 34577| CA-2011-102988|  5-4-2011|  9-4-2011|  Second Class|   GM-14695|    Greg Maxwell|  Corporate|   Alexandria|       Virginia|United States|      22304|    US|       South| OFF-SU-10002881|Office Supplies|    Supplies|Martin Yale Chadl...| 4164.05|       5|       0|       846.54|    83.281|          High|\n",
            "| 28879|  ID-2012-28402| 19-4-2012| 22-4-2012|   First Class|   AJ-10780|  Anthony Jacobs|  Corporate|        Kabul|          Kabul|  Afghanistan|       null|  APAC|Central Asia| FUR-TA-10001889|      Furniture|      Tables|Bevis Conference ...| 4626.15|       5|       0|       835.57|    647.55|          High|\n",
            "| 45794|   SA-2011-1830|27-12-2011|29-12-2011|  Second Class|    MM-7260| Magdelene Morse|   Consumer|        Jizan|          Jizan| Saudi Arabia|       null|  EMEA|        EMEA|TEC-CIS-10001717|     Technology|      Phones|Cisco Smart Phone...| 2616.96|       4|       0|       832.41|    1151.4|      Critical|\n",
            "|  4132| MX-2012-130015|13-11-2012|13-11-2012|      Same Day|   VF-21715|  Vicky Freymann|Home Office|       Toledo|         Parana|       Brazil|       null| LATAM|       South| FUR-CH-10002033|      Furniture|      Chairs|Harbour Creations...|  2221.8|       7|       0|       810.25|    622.02|      Critical|\n",
            "| 27704|  IN-2013-73951|  6-6-2013|  8-6-2013|  Second Class|   PF-19120|    Peter Fuller|   Consumer|   Mudanjiang|   Heilongjiang|        China|       null|  APAC|  North Asia| OFF-AP-10003500|Office Supplies|  Appliances|KitchenAid Microw...| 3701.52|      12|       0|       804.54|   1036.08|      Critical|\n",
            "| 13779|ES-2014-5099955| 31-7-2014|  3-8-2014|  Second Class|   BP-11185|    Ben Peterman|  Corporate|        Paris|  Ile-de-France|       France|       null|    EU|     Central| OFF-AP-10000423|Office Supplies|  Appliances|Breville Refriger...|1869.588|       4|     0.1|       801.66|   186.948|      Critical|\n",
            "| 36178| CA-2014-143567| 3-11-2014| 6-11-2014|  Second Class|   TB-21175|   Thomas Boland|  Corporate|    Henderson|       Kentucky|United States|      42420|    US|       South| TEC-AC-10004145|     Technology| Accessories|Logitech diNovo E...| 2249.91|       9|       0|        780.7|  517.4793|      Critical|\n",
            "| 12069|ES-2014-1651774|  8-9-2014| 14-9-2014|Standard Class|   PJ-18835|   Patrick Jones|  Corporate|        Prato|        Tuscany|        Italy|       null|    EU|       South| OFF-AP-10004512|Office Supplies|  Appliances|   Hoover Stove, Red| 7958.58|      14|       0|       778.32|   3979.08|           Low|\n",
            "| 22096|  IN-2014-11763| 31-1-2014|  1-2-2014|   First Class|   JS-15685|        Jim Sink|  Corporate|   Townsville|     Queensland|    Australia|       null|  APAC|     Oceania| TEC-CO-10000865|     Technology|     Copiers|Brother Fax Machi...|2565.594|       9|     0.1|       766.93|    28.404|      Critical|\n",
            "| 49463|   TZ-2014-8190| 5-12-2014| 7-12-2014|  Second Class|    RH-9555| Ritsa Hightower|   Consumer|       Uvinza|         Kigoma|     Tanzania|       null|Africa|      Africa|OFF-KIT-10004058|Office Supplies|  Appliances|KitchenAid Stove,...| 3409.74|       6|       0|       763.38|    818.28|          High|\n",
            "+------+---------------+----------+----------+--------------+-----------+----------------+-----------+-------------+---------------+-------------+-----------+------+------------+----------------+---------------+------------+--------------------+--------+--------+--------+-------------+----------+--------------+\n",
            "only showing top 20 rows\n",
            "\n"
          ]
        }
      ]
    },
    {
      "cell_type": "code",
      "source": [
        "df.printSchema()"
      ],
      "metadata": {
        "colab": {
          "base_uri": "https://localhost:8080/"
        },
        "id": "WkZLZm21FCgH",
        "outputId": "e3d6c45f-331e-4e46-d584-40746b4404dc"
      },
      "execution_count": 29,
      "outputs": [
        {
          "output_type": "stream",
          "name": "stdout",
          "text": [
            "root\n",
            " |-- ROW ID: integer (nullable = true)\n",
            " |-- Order ID: string (nullable = true)\n",
            " |-- Order Date: string (nullable = true)\n",
            " |-- Ship Date: string (nullable = true)\n",
            " |-- Ship Mode: string (nullable = true)\n",
            " |-- Customer ID: string (nullable = true)\n",
            " |-- Customer Name: string (nullable = true)\n",
            " |-- Segment: string (nullable = true)\n",
            " |-- City: string (nullable = true)\n",
            " |-- State: string (nullable = true)\n",
            " |-- Country: string (nullable = true)\n",
            " |-- Postal Code: integer (nullable = true)\n",
            " |-- Market: string (nullable = true)\n",
            " |-- Region: string (nullable = true)\n",
            " |-- Product ID: string (nullable = true)\n",
            " |-- Category: string (nullable = true)\n",
            " |-- Sub-Category: string (nullable = true)\n",
            " |-- Product Name: string (nullable = true)\n",
            " |-- Sales: string (nullable = true)\n",
            " |-- Quantity: string (nullable = true)\n",
            " |-- Discount: string (nullable = true)\n",
            " |-- Shipping Cost: double (nullable = true)\n",
            " |-- Profit: double (nullable = true)\n",
            " |-- Order Priority: string (nullable = true)\n",
            "\n"
          ]
        }
      ]
    },
    {
      "cell_type": "code",
      "source": [
        "df1 = spark.read.csv(\"/content/data.csv\", header = True, inferSchema = True)\n",
        "df1.show()"
      ],
      "metadata": {
        "colab": {
          "base_uri": "https://localhost:8080/"
        },
        "id": "PAzQj2YsFG98",
        "outputId": "22213734-5740-416a-f399-ea2d53565040"
      },
      "execution_count": 30,
      "outputs": [
        {
          "output_type": "stream",
          "name": "stdout",
          "text": [
            "+------+---------------+----------+----------+--------------+-----------+----------------+-----------+-------------+---------------+-------------+-----------+------+------------+----------------+---------------+------------+--------------------+--------+--------+--------+-------------+----------+--------------+\n",
            "|ROW ID|       Order ID|Order Date| Ship Date|     Ship Mode|Customer ID|   Customer Name|    Segment|         City|          State|      Country|Postal Code|Market|      Region|      Product ID|       Category|Sub-Category|        Product Name|   Sales|Quantity|Discount|Shipping Cost|    Profit|Order Priority|\n",
            "+------+---------------+----------+----------+--------------+-----------+----------------+-----------+-------------+---------------+-------------+-----------+------+------------+----------------+---------------+------------+--------------------+--------+--------+--------+-------------+----------+--------------+\n",
            "| 26341| CA-2012-124891| 31-7-2012| 31-7-2012|      Same Day|   RH-19495|     Rick Hansen|   Consumer|New York City|       New York|United States|      10024|    US|        East| TEC-AC-10003033|     Technology| Accessories|Plantronics CS510...| 2309.65|       7|       0|       933.57|  762.1845|      Critical|\n",
            "| 26341|  IN-2013-77878|  5-2-2013|  7-2-2013|  Second Class|   JR-16210|   Justin Ritter|  Corporate|   Wollongong|New South Wales|    Australia|       null|  APAC|     Oceania| FUR-CH-10003950|      Furniture|      Chairs|Novimex Executive...|3709.395|       9|     0.1|       923.63|  -288.765|      Critical|\n",
            "| 25330|  IN-2013-71249|17-10-2013|18-10-2013|   First Class|   CR-12730|    Craig Reiter|   Consumer|     Brisbane|     Queensland|    Australia|       null|  APAC|     Oceania| TEC-PH-10004664|     Technology|      Phones|Nokia Smart Phone...|5175.171|       9|     0.1|       915.49|   919.971|        Medium|\n",
            "| 13524|ES-2013-1579342| 28-1-2013| 30-1-2013|   First Class|   KM-16375|Katherine Murray|Home Office|       Berlin|         Berlin|      Germany|       null|    EU|     Central| TEC-PH-10004583|     Technology|      Phones|Motorola Smart Ph...| 2892.51|       5|     0.1|       910.16|    -96.54|        Medium|\n",
            "| 47221|   SG-2013-4320| 5-11-2013| 6-11-2013|      Same Day|    RH-9495|     Rick Hansen|   Consumer|        Dakar|          Dakar|      Senegal|       null|Africa|      Africa|TEC-SHA-10000501|     Technology|     Copiers|Sharp Wireless Fa...| 2832.96|       8|       0|       903.04|    311.52|      Critical|\n",
            "| 22732|  IN-2013-42360| 28-6-2013|  1-7-2013|  Second Class|   JM-15655|     Jim Mitchum|  Corporate|       Sydney|New South Wales|    Australia|       null|  APAC|     Oceania| TEC-PH-10000030|     Technology|      Phones|Samsung Smart Pho...|2862.675|       5|     0.1|       897.35|   763.275|      Critical|\n",
            "| 30570|  IN-2011-81826| 7-11-2011| 9-11-2011|   First Class|   TS-21340|   Toby Swindell|   Consumer|      Porirua|     Wellington|  New Zealand|       null|  APAC|     Oceania| FUR-CH-10004050|      Furniture|      Chairs|Novimex Executive...| 1822.08|       4|       0|       894.77|    564.84|      Critical|\n",
            "| 31192|  IN-2012-86369| 14-4-2012| 18-4-2012|Standard Class|   MB-18085|      Mick Brown|   Consumer|     Hamilton|        Waikato|  New Zealand|       null|  APAC|     Oceania| FUR-TA-10002958|      Furniture|      Tables|Chromcraft Confer...| 5244.84|       6|       0|       878.38|    996.48|          High|\n",
            "| 40155| CA-2014-135909|14-10-2014|21-10-2014|Standard Class|   JW-15220|       Jane Waco|  Corporate|   Sacramento|     California|United States|      95823|    US|        West| OFF-BI-10003527|Office Supplies|     Binders|Fellowes PB500 El...| 5083.96|       5|     0.2|       867.69|  1906.485|           Low|\n",
            "| 40936| CA-2012-116638| 28-1-2012| 31-1-2012|  Second Class|   JH-15985|     Joseph Holt|   Consumer|      Concord| North Carolina|United States|      28027|    US|       South| FUR-TA-10000198|      Furniture|      Tables|Chromcraft Bull-N...|4297.644|      13|     0.4|       865.74|-1862.3124|      Critical|\n",
            "| 34577| CA-2011-102988|  5-4-2011|  9-4-2011|  Second Class|   GM-14695|    Greg Maxwell|  Corporate|   Alexandria|       Virginia|United States|      22304|    US|       South| OFF-SU-10002881|Office Supplies|    Supplies|Martin Yale Chadl...| 4164.05|       5|       0|       846.54|    83.281|          High|\n",
            "| 28879|  ID-2012-28402| 19-4-2012| 22-4-2012|   First Class|   AJ-10780|  Anthony Jacobs|  Corporate|        Kabul|          Kabul|  Afghanistan|       null|  APAC|Central Asia| FUR-TA-10001889|      Furniture|      Tables|Bevis Conference ...| 4626.15|       5|       0|       835.57|    647.55|          High|\n",
            "| 45794|   SA-2011-1830|27-12-2011|29-12-2011|  Second Class|    MM-7260| Magdelene Morse|   Consumer|        Jizan|          Jizan| Saudi Arabia|       null|  EMEA|        EMEA|TEC-CIS-10001717|     Technology|      Phones|Cisco Smart Phone...| 2616.96|       4|       0|       832.41|    1151.4|      Critical|\n",
            "|  4132| MX-2012-130015|13-11-2012|13-11-2012|      Same Day|   VF-21715|  Vicky Freymann|Home Office|       Toledo|         Parana|       Brazil|       null| LATAM|       South| FUR-CH-10002033|      Furniture|      Chairs|Harbour Creations...|  2221.8|       7|       0|       810.25|    622.02|      Critical|\n",
            "| 27704|  IN-2013-73951|  6-6-2013|  8-6-2013|  Second Class|   PF-19120|    Peter Fuller|   Consumer|   Mudanjiang|   Heilongjiang|        China|       null|  APAC|  North Asia| OFF-AP-10003500|Office Supplies|  Appliances|KitchenAid Microw...| 3701.52|      12|       0|       804.54|   1036.08|      Critical|\n",
            "| 13779|ES-2014-5099955| 31-7-2014|  3-8-2014|  Second Class|   BP-11185|    Ben Peterman|  Corporate|        Paris|  Ile-de-France|       France|       null|    EU|     Central| OFF-AP-10000423|Office Supplies|  Appliances|Breville Refriger...|1869.588|       4|     0.1|       801.66|   186.948|      Critical|\n",
            "| 36178| CA-2014-143567| 3-11-2014| 6-11-2014|  Second Class|   TB-21175|   Thomas Boland|  Corporate|    Henderson|       Kentucky|United States|      42420|    US|       South| TEC-AC-10004145|     Technology| Accessories|Logitech diNovo E...| 2249.91|       9|       0|        780.7|  517.4793|      Critical|\n",
            "| 12069|ES-2014-1651774|  8-9-2014| 14-9-2014|Standard Class|   PJ-18835|   Patrick Jones|  Corporate|        Prato|        Tuscany|        Italy|       null|    EU|       South| OFF-AP-10004512|Office Supplies|  Appliances|   Hoover Stove, Red| 7958.58|      14|       0|       778.32|   3979.08|           Low|\n",
            "| 22096|  IN-2014-11763| 31-1-2014|  1-2-2014|   First Class|   JS-15685|        Jim Sink|  Corporate|   Townsville|     Queensland|    Australia|       null|  APAC|     Oceania| TEC-CO-10000865|     Technology|     Copiers|Brother Fax Machi...|2565.594|       9|     0.1|       766.93|    28.404|      Critical|\n",
            "| 49463|   TZ-2014-8190| 5-12-2014| 7-12-2014|  Second Class|    RH-9555| Ritsa Hightower|   Consumer|       Uvinza|         Kigoma|     Tanzania|       null|Africa|      Africa|OFF-KIT-10004058|Office Supplies|  Appliances|KitchenAid Stove,...| 3409.74|       6|       0|       763.38|    818.28|          High|\n",
            "+------+---------------+----------+----------+--------------+-----------+----------------+-----------+-------------+---------------+-------------+-----------+------+------------+----------------+---------------+------------+--------------------+--------+--------+--------+-------------+----------+--------------+\n",
            "only showing top 20 rows\n",
            "\n"
          ]
        }
      ]
    },
    {
      "cell_type": "code",
      "source": [
        "type(df1)"
      ],
      "metadata": {
        "colab": {
          "base_uri": "https://localhost:8080/"
        },
        "id": "wc_gRnd7FXt2",
        "outputId": "641c7f43-7ce2-476d-bacd-a85b77c4d48d"
      },
      "execution_count": 31,
      "outputs": [
        {
          "output_type": "execute_result",
          "data": {
            "text/plain": [
              "pyspark.sql.dataframe.DataFrame"
            ]
          },
          "metadata": {},
          "execution_count": 31
        }
      ]
    },
    {
      "cell_type": "code",
      "source": [
        "df1.columns"
      ],
      "metadata": {
        "colab": {
          "base_uri": "https://localhost:8080/"
        },
        "id": "l6Mx_9-yFgmF",
        "outputId": "7ecd9726-00ea-4a36-d05b-3a4f6a1179d6"
      },
      "execution_count": 32,
      "outputs": [
        {
          "output_type": "execute_result",
          "data": {
            "text/plain": [
              "['ROW ID',\n",
              " 'Order ID',\n",
              " 'Order Date',\n",
              " 'Ship Date',\n",
              " 'Ship Mode',\n",
              " 'Customer ID',\n",
              " 'Customer Name',\n",
              " 'Segment',\n",
              " 'City',\n",
              " 'State',\n",
              " 'Country',\n",
              " 'Postal Code',\n",
              " 'Market',\n",
              " 'Region',\n",
              " 'Product ID',\n",
              " 'Category',\n",
              " 'Sub-Category',\n",
              " 'Product Name',\n",
              " 'Sales',\n",
              " 'Quantity',\n",
              " 'Discount',\n",
              " 'Shipping Cost',\n",
              " 'Profit',\n",
              " 'Order Priority']"
            ]
          },
          "metadata": {},
          "execution_count": 32
        }
      ]
    },
    {
      "cell_type": "code",
      "source": [
        "df1.select('Market').show()\n",
        "df1.select(['Market','Profit']).show()"
      ],
      "metadata": {
        "colab": {
          "base_uri": "https://localhost:8080/"
        },
        "id": "aOq2M-q_Skoc",
        "outputId": "bcf70825-3a5c-43d5-8087-770b0cf6cc76"
      },
      "execution_count": 34,
      "outputs": [
        {
          "output_type": "stream",
          "name": "stdout",
          "text": [
            "+------+\n",
            "|Market|\n",
            "+------+\n",
            "|    US|\n",
            "|  APAC|\n",
            "|  APAC|\n",
            "|    EU|\n",
            "|Africa|\n",
            "|  APAC|\n",
            "|  APAC|\n",
            "|  APAC|\n",
            "|    US|\n",
            "|    US|\n",
            "|    US|\n",
            "|  APAC|\n",
            "|  EMEA|\n",
            "| LATAM|\n",
            "|  APAC|\n",
            "|    EU|\n",
            "|    US|\n",
            "|    EU|\n",
            "|  APAC|\n",
            "|Africa|\n",
            "+------+\n",
            "only showing top 20 rows\n",
            "\n",
            "+------+----------+\n",
            "|Market|    Profit|\n",
            "+------+----------+\n",
            "|    US|  762.1845|\n",
            "|  APAC|  -288.765|\n",
            "|  APAC|   919.971|\n",
            "|    EU|    -96.54|\n",
            "|Africa|    311.52|\n",
            "|  APAC|   763.275|\n",
            "|  APAC|    564.84|\n",
            "|  APAC|    996.48|\n",
            "|    US|  1906.485|\n",
            "|    US|-1862.3124|\n",
            "|    US|    83.281|\n",
            "|  APAC|    647.55|\n",
            "|  EMEA|    1151.4|\n",
            "| LATAM|    622.02|\n",
            "|  APAC|   1036.08|\n",
            "|    EU|   186.948|\n",
            "|    US|  517.4793|\n",
            "|    EU|   3979.08|\n",
            "|  APAC|    28.404|\n",
            "|Africa|    818.28|\n",
            "+------+----------+\n",
            "only showing top 20 rows\n",
            "\n"
          ]
        }
      ]
    },
    {
      "cell_type": "code",
      "source": [
        "df1.dtypes"
      ],
      "metadata": {
        "colab": {
          "base_uri": "https://localhost:8080/"
        },
        "id": "gXbRoTVISyDc",
        "outputId": "3a974d92-a390-4c1c-ad70-b79f28cfe95c"
      },
      "execution_count": 35,
      "outputs": [
        {
          "output_type": "execute_result",
          "data": {
            "text/plain": [
              "[('ROW ID', 'int'),\n",
              " ('Order ID', 'string'),\n",
              " ('Order Date', 'string'),\n",
              " ('Ship Date', 'string'),\n",
              " ('Ship Mode', 'string'),\n",
              " ('Customer ID', 'string'),\n",
              " ('Customer Name', 'string'),\n",
              " ('Segment', 'string'),\n",
              " ('City', 'string'),\n",
              " ('State', 'string'),\n",
              " ('Country', 'string'),\n",
              " ('Postal Code', 'int'),\n",
              " ('Market', 'string'),\n",
              " ('Region', 'string'),\n",
              " ('Product ID', 'string'),\n",
              " ('Category', 'string'),\n",
              " ('Sub-Category', 'string'),\n",
              " ('Product Name', 'string'),\n",
              " ('Sales', 'string'),\n",
              " ('Quantity', 'string'),\n",
              " ('Discount', 'string'),\n",
              " ('Shipping Cost', 'double'),\n",
              " ('Profit', 'double'),\n",
              " ('Order Priority', 'string')]"
            ]
          },
          "metadata": {},
          "execution_count": 35
        }
      ]
    },
    {
      "cell_type": "code",
      "source": [
        "df1.describe().show()"
      ],
      "metadata": {
        "colab": {
          "base_uri": "https://localhost:8080/"
        },
        "id": "TXAYyP2ETAAy",
        "outputId": "10a78858-d638-429a-aa48-d038ad02df8d"
      },
      "execution_count": 38,
      "outputs": [
        {
          "output_type": "stream",
          "name": "stdout",
          "text": [
            "+-------+------------------+------------+----------+---------+--------------+-----------+------------------+-----------+--------------------+------+-----------+----------------+------+------+----------------+----------+------------+--------------------+------------------+------------------+-------------------+------------------+------------------+-----------------+\n",
            "|summary|            ROW ID|    Order ID|Order Date|Ship Date|     Ship Mode|Customer ID|     Customer Name|    Segment|                City| State|    Country|     Postal Code|Market|Region|      Product ID|  Category|Sub-Category|        Product Name|             Sales|          Quantity|           Discount|     Shipping Cost|            Profit|   Order Priority|\n",
            "+-------+------------------+------------+----------+---------+--------------+-----------+------------------+-----------+--------------------+------+-----------+----------------+------+------+----------------+----------+------------+--------------------+------------------+------------------+-------------------+------------------+------------------+-----------------+\n",
            "|  count|             51290|       51290|     51290|    51290|         51290|      51290|             51290|      51290|               51290| 51290|      51290|            9994| 51290| 51290|           51290|     51290|       51290|               51290|             51290|             51290|              51290|             51290|             51290|            51290|\n",
            "|   mean| 25645.38385650224|        null|      null|     null|          null|       null|              null|       null|                null|  null|       null|55190.3794276566|  null|  null|            null|      null|        null|                null|247.45540117435237|3.8730907353228003|0.17393517814308798|26.386256541236502|28.581415749268913|7.534598999999998|\n",
            "| stddev|14806.263169599835|        null|      null|     null|          null|       null|              null|       null|                null|  null|       null|32063.6933503645|  null|  null|            null|      null|        null|                null| 488.7169016368606|11.481568120812641|  1.476315026087876|57.478372990119105|174.31529118412413|32.13298450320444|\n",
            "|    min|                 1|AE-2011-9160|  1-1-2011| 1-1-2012|   First Class|   AA-10315|     Aaron Bergman|   Consumer|              Aachen|'Ajman|Afghanistan|            1040|  APAC|Africa|FUR-ADV-10000002| Furniture| Accessories|\"\"\"While you Were...|          10/Pack\"|      1040 sheets\"|            30/Box\"|               0.0|         -6599.978|            0.76 |\n",
            "|    max|             51290|ZI-2014-9650|  9-9-2014| 9-9-2014|Standard Class|   ZD-21925|Zuschuss Donatelli|Home Office|�guas Lindas de G...|�ilina|   Zimbabwe|           99301|    US|  West|TEC-STA-10004927|Technology|      Tables|netTALK DUO VoIP ...|            999.98|            98.352|             98.352|            933.57|          8399.976|           Medium|\n",
            "+-------+------------------+------------+----------+---------+--------------+-----------+------------------+-----------+--------------------+------+-----------+----------------+------+------+----------------+----------+------------+--------------------+------------------+------------------+-------------------+------------------+------------------+-----------------+\n",
            "\n"
          ]
        }
      ]
    },
    {
      "cell_type": "code",
      "source": [
        "df1 = df1.withColumn(\"Quantity multiple * 2\",df1['Quantity']*2)\n",
        "df1.show()"
      ],
      "metadata": {
        "colab": {
          "base_uri": "https://localhost:8080/"
        },
        "id": "Tq-xrrqsTELV",
        "outputId": "2b3a9787-e048-42f2-ae12-aab77feeab0a"
      },
      "execution_count": 39,
      "outputs": [
        {
          "output_type": "stream",
          "name": "stdout",
          "text": [
            "+------+---------------+----------+----------+--------------+-----------+----------------+-----------+-------------+---------------+-------------+-----------+------+------------+----------------+---------------+------------+--------------------+--------+--------+--------+-------------+----------+--------------+---------------------+\n",
            "|ROW ID|       Order ID|Order Date| Ship Date|     Ship Mode|Customer ID|   Customer Name|    Segment|         City|          State|      Country|Postal Code|Market|      Region|      Product ID|       Category|Sub-Category|        Product Name|   Sales|Quantity|Discount|Shipping Cost|    Profit|Order Priority|Quantity multiple * 2|\n",
            "+------+---------------+----------+----------+--------------+-----------+----------------+-----------+-------------+---------------+-------------+-----------+------+------------+----------------+---------------+------------+--------------------+--------+--------+--------+-------------+----------+--------------+---------------------+\n",
            "| 26341| CA-2012-124891| 31-7-2012| 31-7-2012|      Same Day|   RH-19495|     Rick Hansen|   Consumer|New York City|       New York|United States|      10024|    US|        East| TEC-AC-10003033|     Technology| Accessories|Plantronics CS510...| 2309.65|       7|       0|       933.57|  762.1845|      Critical|                 14.0|\n",
            "| 26341|  IN-2013-77878|  5-2-2013|  7-2-2013|  Second Class|   JR-16210|   Justin Ritter|  Corporate|   Wollongong|New South Wales|    Australia|       null|  APAC|     Oceania| FUR-CH-10003950|      Furniture|      Chairs|Novimex Executive...|3709.395|       9|     0.1|       923.63|  -288.765|      Critical|                 18.0|\n",
            "| 25330|  IN-2013-71249|17-10-2013|18-10-2013|   First Class|   CR-12730|    Craig Reiter|   Consumer|     Brisbane|     Queensland|    Australia|       null|  APAC|     Oceania| TEC-PH-10004664|     Technology|      Phones|Nokia Smart Phone...|5175.171|       9|     0.1|       915.49|   919.971|        Medium|                 18.0|\n",
            "| 13524|ES-2013-1579342| 28-1-2013| 30-1-2013|   First Class|   KM-16375|Katherine Murray|Home Office|       Berlin|         Berlin|      Germany|       null|    EU|     Central| TEC-PH-10004583|     Technology|      Phones|Motorola Smart Ph...| 2892.51|       5|     0.1|       910.16|    -96.54|        Medium|                 10.0|\n",
            "| 47221|   SG-2013-4320| 5-11-2013| 6-11-2013|      Same Day|    RH-9495|     Rick Hansen|   Consumer|        Dakar|          Dakar|      Senegal|       null|Africa|      Africa|TEC-SHA-10000501|     Technology|     Copiers|Sharp Wireless Fa...| 2832.96|       8|       0|       903.04|    311.52|      Critical|                 16.0|\n",
            "| 22732|  IN-2013-42360| 28-6-2013|  1-7-2013|  Second Class|   JM-15655|     Jim Mitchum|  Corporate|       Sydney|New South Wales|    Australia|       null|  APAC|     Oceania| TEC-PH-10000030|     Technology|      Phones|Samsung Smart Pho...|2862.675|       5|     0.1|       897.35|   763.275|      Critical|                 10.0|\n",
            "| 30570|  IN-2011-81826| 7-11-2011| 9-11-2011|   First Class|   TS-21340|   Toby Swindell|   Consumer|      Porirua|     Wellington|  New Zealand|       null|  APAC|     Oceania| FUR-CH-10004050|      Furniture|      Chairs|Novimex Executive...| 1822.08|       4|       0|       894.77|    564.84|      Critical|                  8.0|\n",
            "| 31192|  IN-2012-86369| 14-4-2012| 18-4-2012|Standard Class|   MB-18085|      Mick Brown|   Consumer|     Hamilton|        Waikato|  New Zealand|       null|  APAC|     Oceania| FUR-TA-10002958|      Furniture|      Tables|Chromcraft Confer...| 5244.84|       6|       0|       878.38|    996.48|          High|                 12.0|\n",
            "| 40155| CA-2014-135909|14-10-2014|21-10-2014|Standard Class|   JW-15220|       Jane Waco|  Corporate|   Sacramento|     California|United States|      95823|    US|        West| OFF-BI-10003527|Office Supplies|     Binders|Fellowes PB500 El...| 5083.96|       5|     0.2|       867.69|  1906.485|           Low|                 10.0|\n",
            "| 40936| CA-2012-116638| 28-1-2012| 31-1-2012|  Second Class|   JH-15985|     Joseph Holt|   Consumer|      Concord| North Carolina|United States|      28027|    US|       South| FUR-TA-10000198|      Furniture|      Tables|Chromcraft Bull-N...|4297.644|      13|     0.4|       865.74|-1862.3124|      Critical|                 26.0|\n",
            "| 34577| CA-2011-102988|  5-4-2011|  9-4-2011|  Second Class|   GM-14695|    Greg Maxwell|  Corporate|   Alexandria|       Virginia|United States|      22304|    US|       South| OFF-SU-10002881|Office Supplies|    Supplies|Martin Yale Chadl...| 4164.05|       5|       0|       846.54|    83.281|          High|                 10.0|\n",
            "| 28879|  ID-2012-28402| 19-4-2012| 22-4-2012|   First Class|   AJ-10780|  Anthony Jacobs|  Corporate|        Kabul|          Kabul|  Afghanistan|       null|  APAC|Central Asia| FUR-TA-10001889|      Furniture|      Tables|Bevis Conference ...| 4626.15|       5|       0|       835.57|    647.55|          High|                 10.0|\n",
            "| 45794|   SA-2011-1830|27-12-2011|29-12-2011|  Second Class|    MM-7260| Magdelene Morse|   Consumer|        Jizan|          Jizan| Saudi Arabia|       null|  EMEA|        EMEA|TEC-CIS-10001717|     Technology|      Phones|Cisco Smart Phone...| 2616.96|       4|       0|       832.41|    1151.4|      Critical|                  8.0|\n",
            "|  4132| MX-2012-130015|13-11-2012|13-11-2012|      Same Day|   VF-21715|  Vicky Freymann|Home Office|       Toledo|         Parana|       Brazil|       null| LATAM|       South| FUR-CH-10002033|      Furniture|      Chairs|Harbour Creations...|  2221.8|       7|       0|       810.25|    622.02|      Critical|                 14.0|\n",
            "| 27704|  IN-2013-73951|  6-6-2013|  8-6-2013|  Second Class|   PF-19120|    Peter Fuller|   Consumer|   Mudanjiang|   Heilongjiang|        China|       null|  APAC|  North Asia| OFF-AP-10003500|Office Supplies|  Appliances|KitchenAid Microw...| 3701.52|      12|       0|       804.54|   1036.08|      Critical|                 24.0|\n",
            "| 13779|ES-2014-5099955| 31-7-2014|  3-8-2014|  Second Class|   BP-11185|    Ben Peterman|  Corporate|        Paris|  Ile-de-France|       France|       null|    EU|     Central| OFF-AP-10000423|Office Supplies|  Appliances|Breville Refriger...|1869.588|       4|     0.1|       801.66|   186.948|      Critical|                  8.0|\n",
            "| 36178| CA-2014-143567| 3-11-2014| 6-11-2014|  Second Class|   TB-21175|   Thomas Boland|  Corporate|    Henderson|       Kentucky|United States|      42420|    US|       South| TEC-AC-10004145|     Technology| Accessories|Logitech diNovo E...| 2249.91|       9|       0|        780.7|  517.4793|      Critical|                 18.0|\n",
            "| 12069|ES-2014-1651774|  8-9-2014| 14-9-2014|Standard Class|   PJ-18835|   Patrick Jones|  Corporate|        Prato|        Tuscany|        Italy|       null|    EU|       South| OFF-AP-10004512|Office Supplies|  Appliances|   Hoover Stove, Red| 7958.58|      14|       0|       778.32|   3979.08|           Low|                 28.0|\n",
            "| 22096|  IN-2014-11763| 31-1-2014|  1-2-2014|   First Class|   JS-15685|        Jim Sink|  Corporate|   Townsville|     Queensland|    Australia|       null|  APAC|     Oceania| TEC-CO-10000865|     Technology|     Copiers|Brother Fax Machi...|2565.594|       9|     0.1|       766.93|    28.404|      Critical|                 18.0|\n",
            "| 49463|   TZ-2014-8190| 5-12-2014| 7-12-2014|  Second Class|    RH-9555| Ritsa Hightower|   Consumer|       Uvinza|         Kigoma|     Tanzania|       null|Africa|      Africa|OFF-KIT-10004058|Office Supplies|  Appliances|KitchenAid Stove,...| 3409.74|       6|       0|       763.38|    818.28|          High|                 12.0|\n",
            "+------+---------------+----------+----------+--------------+-----------+----------------+-----------+-------------+---------------+-------------+-----------+------+------------+----------------+---------------+------------+--------------------+--------+--------+--------+-------------+----------+--------------+---------------------+\n",
            "only showing top 20 rows\n",
            "\n"
          ]
        }
      ]
    },
    {
      "cell_type": "code",
      "source": [
        "df1 = df1.drop(\"Quantity multiple * 2\")\n",
        "df1.show()"
      ],
      "metadata": {
        "colab": {
          "base_uri": "https://localhost:8080/"
        },
        "id": "FSh6c-OHTsoi",
        "outputId": "b3a998f9-bb74-43ba-e758-abd5bceb9279"
      },
      "execution_count": 41,
      "outputs": [
        {
          "output_type": "stream",
          "name": "stdout",
          "text": [
            "+------+---------------+----------+----------+--------------+-----------+----------------+-----------+-------------+---------------+-------------+-----------+------+------------+----------------+---------------+------------+--------------------+--------+--------+--------+-------------+----------+--------------+\n",
            "|ROW ID|       Order ID|Order Date| Ship Date|     Ship Mode|Customer ID|   Customer Name|    Segment|         City|          State|      Country|Postal Code|Market|      Region|      Product ID|       Category|Sub-Category|        Product Name|   Sales|Quantity|Discount|Shipping Cost|    Profit|Order Priority|\n",
            "+------+---------------+----------+----------+--------------+-----------+----------------+-----------+-------------+---------------+-------------+-----------+------+------------+----------------+---------------+------------+--------------------+--------+--------+--------+-------------+----------+--------------+\n",
            "| 26341| CA-2012-124891| 31-7-2012| 31-7-2012|      Same Day|   RH-19495|     Rick Hansen|   Consumer|New York City|       New York|United States|      10024|    US|        East| TEC-AC-10003033|     Technology| Accessories|Plantronics CS510...| 2309.65|       7|       0|       933.57|  762.1845|      Critical|\n",
            "| 26341|  IN-2013-77878|  5-2-2013|  7-2-2013|  Second Class|   JR-16210|   Justin Ritter|  Corporate|   Wollongong|New South Wales|    Australia|       null|  APAC|     Oceania| FUR-CH-10003950|      Furniture|      Chairs|Novimex Executive...|3709.395|       9|     0.1|       923.63|  -288.765|      Critical|\n",
            "| 25330|  IN-2013-71249|17-10-2013|18-10-2013|   First Class|   CR-12730|    Craig Reiter|   Consumer|     Brisbane|     Queensland|    Australia|       null|  APAC|     Oceania| TEC-PH-10004664|     Technology|      Phones|Nokia Smart Phone...|5175.171|       9|     0.1|       915.49|   919.971|        Medium|\n",
            "| 13524|ES-2013-1579342| 28-1-2013| 30-1-2013|   First Class|   KM-16375|Katherine Murray|Home Office|       Berlin|         Berlin|      Germany|       null|    EU|     Central| TEC-PH-10004583|     Technology|      Phones|Motorola Smart Ph...| 2892.51|       5|     0.1|       910.16|    -96.54|        Medium|\n",
            "| 47221|   SG-2013-4320| 5-11-2013| 6-11-2013|      Same Day|    RH-9495|     Rick Hansen|   Consumer|        Dakar|          Dakar|      Senegal|       null|Africa|      Africa|TEC-SHA-10000501|     Technology|     Copiers|Sharp Wireless Fa...| 2832.96|       8|       0|       903.04|    311.52|      Critical|\n",
            "| 22732|  IN-2013-42360| 28-6-2013|  1-7-2013|  Second Class|   JM-15655|     Jim Mitchum|  Corporate|       Sydney|New South Wales|    Australia|       null|  APAC|     Oceania| TEC-PH-10000030|     Technology|      Phones|Samsung Smart Pho...|2862.675|       5|     0.1|       897.35|   763.275|      Critical|\n",
            "| 30570|  IN-2011-81826| 7-11-2011| 9-11-2011|   First Class|   TS-21340|   Toby Swindell|   Consumer|      Porirua|     Wellington|  New Zealand|       null|  APAC|     Oceania| FUR-CH-10004050|      Furniture|      Chairs|Novimex Executive...| 1822.08|       4|       0|       894.77|    564.84|      Critical|\n",
            "| 31192|  IN-2012-86369| 14-4-2012| 18-4-2012|Standard Class|   MB-18085|      Mick Brown|   Consumer|     Hamilton|        Waikato|  New Zealand|       null|  APAC|     Oceania| FUR-TA-10002958|      Furniture|      Tables|Chromcraft Confer...| 5244.84|       6|       0|       878.38|    996.48|          High|\n",
            "| 40155| CA-2014-135909|14-10-2014|21-10-2014|Standard Class|   JW-15220|       Jane Waco|  Corporate|   Sacramento|     California|United States|      95823|    US|        West| OFF-BI-10003527|Office Supplies|     Binders|Fellowes PB500 El...| 5083.96|       5|     0.2|       867.69|  1906.485|           Low|\n",
            "| 40936| CA-2012-116638| 28-1-2012| 31-1-2012|  Second Class|   JH-15985|     Joseph Holt|   Consumer|      Concord| North Carolina|United States|      28027|    US|       South| FUR-TA-10000198|      Furniture|      Tables|Chromcraft Bull-N...|4297.644|      13|     0.4|       865.74|-1862.3124|      Critical|\n",
            "| 34577| CA-2011-102988|  5-4-2011|  9-4-2011|  Second Class|   GM-14695|    Greg Maxwell|  Corporate|   Alexandria|       Virginia|United States|      22304|    US|       South| OFF-SU-10002881|Office Supplies|    Supplies|Martin Yale Chadl...| 4164.05|       5|       0|       846.54|    83.281|          High|\n",
            "| 28879|  ID-2012-28402| 19-4-2012| 22-4-2012|   First Class|   AJ-10780|  Anthony Jacobs|  Corporate|        Kabul|          Kabul|  Afghanistan|       null|  APAC|Central Asia| FUR-TA-10001889|      Furniture|      Tables|Bevis Conference ...| 4626.15|       5|       0|       835.57|    647.55|          High|\n",
            "| 45794|   SA-2011-1830|27-12-2011|29-12-2011|  Second Class|    MM-7260| Magdelene Morse|   Consumer|        Jizan|          Jizan| Saudi Arabia|       null|  EMEA|        EMEA|TEC-CIS-10001717|     Technology|      Phones|Cisco Smart Phone...| 2616.96|       4|       0|       832.41|    1151.4|      Critical|\n",
            "|  4132| MX-2012-130015|13-11-2012|13-11-2012|      Same Day|   VF-21715|  Vicky Freymann|Home Office|       Toledo|         Parana|       Brazil|       null| LATAM|       South| FUR-CH-10002033|      Furniture|      Chairs|Harbour Creations...|  2221.8|       7|       0|       810.25|    622.02|      Critical|\n",
            "| 27704|  IN-2013-73951|  6-6-2013|  8-6-2013|  Second Class|   PF-19120|    Peter Fuller|   Consumer|   Mudanjiang|   Heilongjiang|        China|       null|  APAC|  North Asia| OFF-AP-10003500|Office Supplies|  Appliances|KitchenAid Microw...| 3701.52|      12|       0|       804.54|   1036.08|      Critical|\n",
            "| 13779|ES-2014-5099955| 31-7-2014|  3-8-2014|  Second Class|   BP-11185|    Ben Peterman|  Corporate|        Paris|  Ile-de-France|       France|       null|    EU|     Central| OFF-AP-10000423|Office Supplies|  Appliances|Breville Refriger...|1869.588|       4|     0.1|       801.66|   186.948|      Critical|\n",
            "| 36178| CA-2014-143567| 3-11-2014| 6-11-2014|  Second Class|   TB-21175|   Thomas Boland|  Corporate|    Henderson|       Kentucky|United States|      42420|    US|       South| TEC-AC-10004145|     Technology| Accessories|Logitech diNovo E...| 2249.91|       9|       0|        780.7|  517.4793|      Critical|\n",
            "| 12069|ES-2014-1651774|  8-9-2014| 14-9-2014|Standard Class|   PJ-18835|   Patrick Jones|  Corporate|        Prato|        Tuscany|        Italy|       null|    EU|       South| OFF-AP-10004512|Office Supplies|  Appliances|   Hoover Stove, Red| 7958.58|      14|       0|       778.32|   3979.08|           Low|\n",
            "| 22096|  IN-2014-11763| 31-1-2014|  1-2-2014|   First Class|   JS-15685|        Jim Sink|  Corporate|   Townsville|     Queensland|    Australia|       null|  APAC|     Oceania| TEC-CO-10000865|     Technology|     Copiers|Brother Fax Machi...|2565.594|       9|     0.1|       766.93|    28.404|      Critical|\n",
            "| 49463|   TZ-2014-8190| 5-12-2014| 7-12-2014|  Second Class|    RH-9555| Ritsa Hightower|   Consumer|       Uvinza|         Kigoma|     Tanzania|       null|Africa|      Africa|OFF-KIT-10004058|Office Supplies|  Appliances|KitchenAid Stove,...| 3409.74|       6|       0|       763.38|    818.28|          High|\n",
            "+------+---------------+----------+----------+--------------+-----------+----------------+-----------+-------------+---------------+-------------+-----------+------+------------+----------------+---------------+------------+--------------------+--------+--------+--------+-------------+----------+--------------+\n",
            "only showing top 20 rows\n",
            "\n"
          ]
        }
      ]
    },
    {
      "cell_type": "code",
      "source": [
        "df1 = df1.withColumnRenamed(\"ROW ID\", \"ID\").show()"
      ],
      "metadata": {
        "colab": {
          "base_uri": "https://localhost:8080/"
        },
        "id": "Kanwqg6tT8Ky",
        "outputId": "ca2a4950-e34e-467a-fe70-c99bc6d2a0e7"
      },
      "execution_count": 42,
      "outputs": [
        {
          "output_type": "stream",
          "name": "stdout",
          "text": [
            "+-----+---------------+----------+----------+--------------+-----------+----------------+-----------+-------------+---------------+-------------+-----------+------+------------+----------------+---------------+------------+--------------------+--------+--------+--------+-------------+----------+--------------+\n",
            "|   ID|       Order ID|Order Date| Ship Date|     Ship Mode|Customer ID|   Customer Name|    Segment|         City|          State|      Country|Postal Code|Market|      Region|      Product ID|       Category|Sub-Category|        Product Name|   Sales|Quantity|Discount|Shipping Cost|    Profit|Order Priority|\n",
            "+-----+---------------+----------+----------+--------------+-----------+----------------+-----------+-------------+---------------+-------------+-----------+------+------------+----------------+---------------+------------+--------------------+--------+--------+--------+-------------+----------+--------------+\n",
            "|26341| CA-2012-124891| 31-7-2012| 31-7-2012|      Same Day|   RH-19495|     Rick Hansen|   Consumer|New York City|       New York|United States|      10024|    US|        East| TEC-AC-10003033|     Technology| Accessories|Plantronics CS510...| 2309.65|       7|       0|       933.57|  762.1845|      Critical|\n",
            "|26341|  IN-2013-77878|  5-2-2013|  7-2-2013|  Second Class|   JR-16210|   Justin Ritter|  Corporate|   Wollongong|New South Wales|    Australia|       null|  APAC|     Oceania| FUR-CH-10003950|      Furniture|      Chairs|Novimex Executive...|3709.395|       9|     0.1|       923.63|  -288.765|      Critical|\n",
            "|25330|  IN-2013-71249|17-10-2013|18-10-2013|   First Class|   CR-12730|    Craig Reiter|   Consumer|     Brisbane|     Queensland|    Australia|       null|  APAC|     Oceania| TEC-PH-10004664|     Technology|      Phones|Nokia Smart Phone...|5175.171|       9|     0.1|       915.49|   919.971|        Medium|\n",
            "|13524|ES-2013-1579342| 28-1-2013| 30-1-2013|   First Class|   KM-16375|Katherine Murray|Home Office|       Berlin|         Berlin|      Germany|       null|    EU|     Central| TEC-PH-10004583|     Technology|      Phones|Motorola Smart Ph...| 2892.51|       5|     0.1|       910.16|    -96.54|        Medium|\n",
            "|47221|   SG-2013-4320| 5-11-2013| 6-11-2013|      Same Day|    RH-9495|     Rick Hansen|   Consumer|        Dakar|          Dakar|      Senegal|       null|Africa|      Africa|TEC-SHA-10000501|     Technology|     Copiers|Sharp Wireless Fa...| 2832.96|       8|       0|       903.04|    311.52|      Critical|\n",
            "|22732|  IN-2013-42360| 28-6-2013|  1-7-2013|  Second Class|   JM-15655|     Jim Mitchum|  Corporate|       Sydney|New South Wales|    Australia|       null|  APAC|     Oceania| TEC-PH-10000030|     Technology|      Phones|Samsung Smart Pho...|2862.675|       5|     0.1|       897.35|   763.275|      Critical|\n",
            "|30570|  IN-2011-81826| 7-11-2011| 9-11-2011|   First Class|   TS-21340|   Toby Swindell|   Consumer|      Porirua|     Wellington|  New Zealand|       null|  APAC|     Oceania| FUR-CH-10004050|      Furniture|      Chairs|Novimex Executive...| 1822.08|       4|       0|       894.77|    564.84|      Critical|\n",
            "|31192|  IN-2012-86369| 14-4-2012| 18-4-2012|Standard Class|   MB-18085|      Mick Brown|   Consumer|     Hamilton|        Waikato|  New Zealand|       null|  APAC|     Oceania| FUR-TA-10002958|      Furniture|      Tables|Chromcraft Confer...| 5244.84|       6|       0|       878.38|    996.48|          High|\n",
            "|40155| CA-2014-135909|14-10-2014|21-10-2014|Standard Class|   JW-15220|       Jane Waco|  Corporate|   Sacramento|     California|United States|      95823|    US|        West| OFF-BI-10003527|Office Supplies|     Binders|Fellowes PB500 El...| 5083.96|       5|     0.2|       867.69|  1906.485|           Low|\n",
            "|40936| CA-2012-116638| 28-1-2012| 31-1-2012|  Second Class|   JH-15985|     Joseph Holt|   Consumer|      Concord| North Carolina|United States|      28027|    US|       South| FUR-TA-10000198|      Furniture|      Tables|Chromcraft Bull-N...|4297.644|      13|     0.4|       865.74|-1862.3124|      Critical|\n",
            "|34577| CA-2011-102988|  5-4-2011|  9-4-2011|  Second Class|   GM-14695|    Greg Maxwell|  Corporate|   Alexandria|       Virginia|United States|      22304|    US|       South| OFF-SU-10002881|Office Supplies|    Supplies|Martin Yale Chadl...| 4164.05|       5|       0|       846.54|    83.281|          High|\n",
            "|28879|  ID-2012-28402| 19-4-2012| 22-4-2012|   First Class|   AJ-10780|  Anthony Jacobs|  Corporate|        Kabul|          Kabul|  Afghanistan|       null|  APAC|Central Asia| FUR-TA-10001889|      Furniture|      Tables|Bevis Conference ...| 4626.15|       5|       0|       835.57|    647.55|          High|\n",
            "|45794|   SA-2011-1830|27-12-2011|29-12-2011|  Second Class|    MM-7260| Magdelene Morse|   Consumer|        Jizan|          Jizan| Saudi Arabia|       null|  EMEA|        EMEA|TEC-CIS-10001717|     Technology|      Phones|Cisco Smart Phone...| 2616.96|       4|       0|       832.41|    1151.4|      Critical|\n",
            "| 4132| MX-2012-130015|13-11-2012|13-11-2012|      Same Day|   VF-21715|  Vicky Freymann|Home Office|       Toledo|         Parana|       Brazil|       null| LATAM|       South| FUR-CH-10002033|      Furniture|      Chairs|Harbour Creations...|  2221.8|       7|       0|       810.25|    622.02|      Critical|\n",
            "|27704|  IN-2013-73951|  6-6-2013|  8-6-2013|  Second Class|   PF-19120|    Peter Fuller|   Consumer|   Mudanjiang|   Heilongjiang|        China|       null|  APAC|  North Asia| OFF-AP-10003500|Office Supplies|  Appliances|KitchenAid Microw...| 3701.52|      12|       0|       804.54|   1036.08|      Critical|\n",
            "|13779|ES-2014-5099955| 31-7-2014|  3-8-2014|  Second Class|   BP-11185|    Ben Peterman|  Corporate|        Paris|  Ile-de-France|       France|       null|    EU|     Central| OFF-AP-10000423|Office Supplies|  Appliances|Breville Refriger...|1869.588|       4|     0.1|       801.66|   186.948|      Critical|\n",
            "|36178| CA-2014-143567| 3-11-2014| 6-11-2014|  Second Class|   TB-21175|   Thomas Boland|  Corporate|    Henderson|       Kentucky|United States|      42420|    US|       South| TEC-AC-10004145|     Technology| Accessories|Logitech diNovo E...| 2249.91|       9|       0|        780.7|  517.4793|      Critical|\n",
            "|12069|ES-2014-1651774|  8-9-2014| 14-9-2014|Standard Class|   PJ-18835|   Patrick Jones|  Corporate|        Prato|        Tuscany|        Italy|       null|    EU|       South| OFF-AP-10004512|Office Supplies|  Appliances|   Hoover Stove, Red| 7958.58|      14|       0|       778.32|   3979.08|           Low|\n",
            "|22096|  IN-2014-11763| 31-1-2014|  1-2-2014|   First Class|   JS-15685|        Jim Sink|  Corporate|   Townsville|     Queensland|    Australia|       null|  APAC|     Oceania| TEC-CO-10000865|     Technology|     Copiers|Brother Fax Machi...|2565.594|       9|     0.1|       766.93|    28.404|      Critical|\n",
            "|49463|   TZ-2014-8190| 5-12-2014| 7-12-2014|  Second Class|    RH-9555| Ritsa Hightower|   Consumer|       Uvinza|         Kigoma|     Tanzania|       null|Africa|      Africa|OFF-KIT-10004058|Office Supplies|  Appliances|KitchenAid Stove,...| 3409.74|       6|       0|       763.38|    818.28|          High|\n",
            "+-----+---------------+----------+----------+--------------+-----------+----------------+-----------+-------------+---------------+-------------+-----------+------+------------+----------------+---------------+------------+--------------------+--------+--------+--------+-------------+----------+--------------+\n",
            "only showing top 20 rows\n",
            "\n"
          ]
        }
      ]
    },
    {
      "cell_type": "code",
      "source": [
        "#Dropping Nan values\n",
        "df.na.drop().show()"
      ],
      "metadata": {
        "colab": {
          "base_uri": "https://localhost:8080/"
        },
        "id": "n7QlWqaUVchk",
        "outputId": "0ecdb026-21fd-46a8-8f67-c937d46ea110"
      },
      "execution_count": 43,
      "outputs": [
        {
          "output_type": "stream",
          "name": "stdout",
          "text": [
            "+------+--------------+----------+----------+--------------+-----------+--------------------+-----------+----------------+--------------+-------------+-----------+------+-------+---------------+---------------+------------+--------------------+--------+--------+--------+-------------+----------+--------------+\n",
            "|ROW ID|      Order ID|Order Date| Ship Date|     Ship Mode|Customer ID|       Customer Name|    Segment|            City|         State|      Country|Postal Code|Market| Region|     Product ID|       Category|Sub-Category|        Product Name|   Sales|Quantity|Discount|Shipping Cost|    Profit|Order Priority|\n",
            "+------+--------------+----------+----------+--------------+-----------+--------------------+-----------+----------------+--------------+-------------+-----------+------+-------+---------------+---------------+------------+--------------------+--------+--------+--------+-------------+----------+--------------+\n",
            "| 26341|CA-2012-124891| 31-7-2012| 31-7-2012|      Same Day|   RH-19495|         Rick Hansen|   Consumer|   New York City|      New York|United States|      10024|    US|   East|TEC-AC-10003033|     Technology| Accessories|Plantronics CS510...| 2309.65|       7|       0|       933.57|  762.1845|      Critical|\n",
            "| 40155|CA-2014-135909|14-10-2014|21-10-2014|Standard Class|   JW-15220|           Jane Waco|  Corporate|      Sacramento|    California|United States|      95823|    US|   West|OFF-BI-10003527|Office Supplies|     Binders|Fellowes PB500 El...| 5083.96|       5|     0.2|       867.69|  1906.485|           Low|\n",
            "| 40936|CA-2012-116638| 28-1-2012| 31-1-2012|  Second Class|   JH-15985|         Joseph Holt|   Consumer|         Concord|North Carolina|United States|      28027|    US|  South|FUR-TA-10000198|      Furniture|      Tables|Chromcraft Bull-N...|4297.644|      13|     0.4|       865.74|-1862.3124|      Critical|\n",
            "| 34577|CA-2011-102988|  5-4-2011|  9-4-2011|  Second Class|   GM-14695|        Greg Maxwell|  Corporate|      Alexandria|      Virginia|United States|      22304|    US|  South|OFF-SU-10002881|Office Supplies|    Supplies|Martin Yale Chadl...| 4164.05|       5|       0|       846.54|    83.281|          High|\n",
            "| 36178|CA-2014-143567| 3-11-2014| 6-11-2014|  Second Class|   TB-21175|       Thomas Boland|  Corporate|       Henderson|      Kentucky|United States|      42420|    US|  South|TEC-AC-10004145|     Technology| Accessories|Logitech diNovo E...| 2249.91|       9|       0|        780.7|  517.4793|      Critical|\n",
            "| 31784|CA-2011-154627|29-10-2011|31-10-2011|   First Class|   SA-20830|        Sue Ann Reed|   Consumer|         Chicago|      Illinois|United States|      60610|    US|Central|TEC-PH-10001363|     Technology|      Phones|     Apple iPhone 5S|2735.952|       6|     0.2|       752.51|   341.994|          High|\n",
            "| 37311|CA-2013-159016| 11-3-2013| 12-3-2013|   First Class|   KF-16285|      Karen Ferguson|Home Office|     Los Angeles|    California|United States|      90008|    US|   West|TEC-PH-10002885|     Technology|      Phones|      Apple iPhone 5|4158.912|       8|     0.2|       714.66|  363.9048|          High|\n",
            "| 32735|CA-2012-139731|15-10-2012|15-10-2012|      Same Day|   JE-15745|          Joel Eaton|   Consumer|        Amarillo|         Texas|United States|      79109|    US|Central|FUR-CH-10002024|      Furniture|      Chairs|HON 5400 Series T...| 2453.43|       5|     0.3|       690.42|   -350.49|          High|\n",
            "| 32543|CA-2011-168494|12-12-2011|14-12-2011|  Second Class|   NP-18700|          Nora Preis|   Consumer|          Fresno|    California|United States|      93727|    US|   West|FUR-TA-10003473|      Furniture|      Tables|Bretford Rectangu...|3610.848|      12|     0.2|       683.12|  135.4068|          High|\n",
            "| 36423|CA-2011-160766| 14-9-2011| 14-9-2011|      Same Day|   DM-13015|       Darrin Martin|   Consumer|   New York City|      New York|United States|      10009|    US|   East|TEC-MA-10003979|     Technology|    Machines|Ativa V4110MDD Mi...| 2799.96|       4|       0|       675.15| 1371.9804|          High|\n",
            "| 31980|US-2014-168116| 5-11-2014| 5-11-2014|      Same Day|   GT-14635|      Grant Thornton|  Corporate|      Burlington|North Carolina|United States|      27217|    US|  South|TEC-MA-10004125|     Technology|    Machines|Cubify CubeX 3D P...| 7999.98|       4|     0.5|       674.82|-3839.9904|          High|\n",
            "| 35395|CA-2011-116904| 23-9-2011| 28-9-2011|Standard Class|   SC-20095|        Sanjit Chand|   Consumer|     Minneapolis|     Minnesota|United States|      55407|    US|Central|OFF-BI-10001120|Office Supplies|     Binders|Ibico EPK-21 Elec...| 9449.95|       5|       0|       655.61| 4630.4755|        Medium|\n",
            "| 40046|US-2012-163825| 16-6-2012| 19-6-2012|   First Class|   LC-16885|      Lena Creighton|   Consumer|   New York City|      New York|United States|      10009|    US|   East|OFF-BI-10003527|Office Supplies|     Binders|Fellowes PB500 El...|3050.376|       3|     0.2|       632.05|  1143.891|          High|\n",
            "| 38198|US-2014-135013| 25-7-2014| 25-7-2014|      Same Day|   HR-14830|         Harold Ryan|  Corporate|Huntington Beach|    California|United States|      92646|    US|   West|TEC-CO-10001449|     Technology|     Copiers|Hewlett Packard L...| 2399.96|       5|     0.2|       630.05|   839.986|          High|\n",
            "| 32941|CA-2012-111829| 19-3-2012| 20-3-2012|   First Class|   FH-14365|        Fred Hopkins|  Corporate|         Seattle|    Washington|United States|      98115|    US|   West|TEC-CO-10001766|     Technology|     Copiers|  Canon PC940 Copier| 3149.93|       7|       0|       617.92| 1480.4671|          High|\n",
            "| 35594|CA-2014-129021| 24-8-2014| 27-8-2014|  Second Class|   PO-18850|     Patrick O'Brill|   Consumer|     Tallahassee|       Florida|United States|      32303|    US|  South|TEC-PH-10001459|     Technology|      Phones|Samsung Galaxy Me...|4367.896|      13|     0.2|       609.44|  327.5922|        Medium|\n",
            "| 39501|CA-2012-114811| 8-11-2012| 8-11-2012|      Same Day|   KD-16495|       Keith Dawkins|  Corporate|   New York City|      New York|United States|      10024|    US|   East|TEC-MA-10000045|     Technology|    Machines|Zebra ZM400 Therm...|  4643.8|       4|       0|       607.34|  2229.024|        Medium|\n",
            "| 39977|CA-2013-143805| 2-12-2013| 4-12-2013|  Second Class|   JD-15895|    Jonathan Doherty|  Corporate|        Richmond|      Virginia|United States|      23223|    US|  South|OFF-AP-10002945|Office Supplies|  Appliances|Honeywell Envirac...| 2104.55|       7|       0|       594.02|  694.5015|      Critical|\n",
            "| 31806|CA-2012-145352| 16-3-2012| 22-3-2012|Standard Class|   CM-12385|Christopher Martinez|   Consumer|         Atlanta|       Georgia|United States|      30318|    US|  South|OFF-BI-10003527|Office Supplies|     Binders|Fellowes PB500 El...| 6354.95|       5|       0|       581.12|  3177.475|        Medium|\n",
            "| 37817|CA-2014-138289| 17-1-2014| 19-1-2014|  Second Class|   AR-10540|         Andy Reiter|   Consumer|         Jackson|      Michigan|United States|      49201|    US|Central|OFF-BI-10004995|Office Supplies|     Binders|GBC DocuBind P400...| 5443.96|       4|       0|       567.95| 2504.2216|          High|\n",
            "+------+--------------+----------+----------+--------------+-----------+--------------------+-----------+----------------+--------------+-------------+-----------+------+-------+---------------+---------------+------------+--------------------+--------+--------+--------+-------------+----------+--------------+\n",
            "only showing top 20 rows\n",
            "\n"
          ]
        }
      ]
    },
    {
      "cell_type": "code",
      "source": [
        "# Drop using \"any\"\n",
        "df.na.drop(how=\"any\").show()"
      ],
      "metadata": {
        "colab": {
          "base_uri": "https://localhost:8080/"
        },
        "id": "ap6If5P6Vk6a",
        "outputId": "358cc2fd-16a0-4f9a-dc43-b6262aef3a95"
      },
      "execution_count": 46,
      "outputs": [
        {
          "output_type": "stream",
          "name": "stdout",
          "text": [
            "+------+--------------+----------+----------+--------------+-----------+--------------------+-----------+----------------+--------------+-------------+-----------+------+-------+---------------+---------------+------------+--------------------+--------+--------+--------+-------------+----------+--------------+\n",
            "|ROW ID|      Order ID|Order Date| Ship Date|     Ship Mode|Customer ID|       Customer Name|    Segment|            City|         State|      Country|Postal Code|Market| Region|     Product ID|       Category|Sub-Category|        Product Name|   Sales|Quantity|Discount|Shipping Cost|    Profit|Order Priority|\n",
            "+------+--------------+----------+----------+--------------+-----------+--------------------+-----------+----------------+--------------+-------------+-----------+------+-------+---------------+---------------+------------+--------------------+--------+--------+--------+-------------+----------+--------------+\n",
            "| 26341|CA-2012-124891| 31-7-2012| 31-7-2012|      Same Day|   RH-19495|         Rick Hansen|   Consumer|   New York City|      New York|United States|      10024|    US|   East|TEC-AC-10003033|     Technology| Accessories|Plantronics CS510...| 2309.65|       7|       0|       933.57|  762.1845|      Critical|\n",
            "| 40155|CA-2014-135909|14-10-2014|21-10-2014|Standard Class|   JW-15220|           Jane Waco|  Corporate|      Sacramento|    California|United States|      95823|    US|   West|OFF-BI-10003527|Office Supplies|     Binders|Fellowes PB500 El...| 5083.96|       5|     0.2|       867.69|  1906.485|           Low|\n",
            "| 40936|CA-2012-116638| 28-1-2012| 31-1-2012|  Second Class|   JH-15985|         Joseph Holt|   Consumer|         Concord|North Carolina|United States|      28027|    US|  South|FUR-TA-10000198|      Furniture|      Tables|Chromcraft Bull-N...|4297.644|      13|     0.4|       865.74|-1862.3124|      Critical|\n",
            "| 34577|CA-2011-102988|  5-4-2011|  9-4-2011|  Second Class|   GM-14695|        Greg Maxwell|  Corporate|      Alexandria|      Virginia|United States|      22304|    US|  South|OFF-SU-10002881|Office Supplies|    Supplies|Martin Yale Chadl...| 4164.05|       5|       0|       846.54|    83.281|          High|\n",
            "| 36178|CA-2014-143567| 3-11-2014| 6-11-2014|  Second Class|   TB-21175|       Thomas Boland|  Corporate|       Henderson|      Kentucky|United States|      42420|    US|  South|TEC-AC-10004145|     Technology| Accessories|Logitech diNovo E...| 2249.91|       9|       0|        780.7|  517.4793|      Critical|\n",
            "| 31784|CA-2011-154627|29-10-2011|31-10-2011|   First Class|   SA-20830|        Sue Ann Reed|   Consumer|         Chicago|      Illinois|United States|      60610|    US|Central|TEC-PH-10001363|     Technology|      Phones|     Apple iPhone 5S|2735.952|       6|     0.2|       752.51|   341.994|          High|\n",
            "| 37311|CA-2013-159016| 11-3-2013| 12-3-2013|   First Class|   KF-16285|      Karen Ferguson|Home Office|     Los Angeles|    California|United States|      90008|    US|   West|TEC-PH-10002885|     Technology|      Phones|      Apple iPhone 5|4158.912|       8|     0.2|       714.66|  363.9048|          High|\n",
            "| 32735|CA-2012-139731|15-10-2012|15-10-2012|      Same Day|   JE-15745|          Joel Eaton|   Consumer|        Amarillo|         Texas|United States|      79109|    US|Central|FUR-CH-10002024|      Furniture|      Chairs|HON 5400 Series T...| 2453.43|       5|     0.3|       690.42|   -350.49|          High|\n",
            "| 32543|CA-2011-168494|12-12-2011|14-12-2011|  Second Class|   NP-18700|          Nora Preis|   Consumer|          Fresno|    California|United States|      93727|    US|   West|FUR-TA-10003473|      Furniture|      Tables|Bretford Rectangu...|3610.848|      12|     0.2|       683.12|  135.4068|          High|\n",
            "| 36423|CA-2011-160766| 14-9-2011| 14-9-2011|      Same Day|   DM-13015|       Darrin Martin|   Consumer|   New York City|      New York|United States|      10009|    US|   East|TEC-MA-10003979|     Technology|    Machines|Ativa V4110MDD Mi...| 2799.96|       4|       0|       675.15| 1371.9804|          High|\n",
            "| 31980|US-2014-168116| 5-11-2014| 5-11-2014|      Same Day|   GT-14635|      Grant Thornton|  Corporate|      Burlington|North Carolina|United States|      27217|    US|  South|TEC-MA-10004125|     Technology|    Machines|Cubify CubeX 3D P...| 7999.98|       4|     0.5|       674.82|-3839.9904|          High|\n",
            "| 35395|CA-2011-116904| 23-9-2011| 28-9-2011|Standard Class|   SC-20095|        Sanjit Chand|   Consumer|     Minneapolis|     Minnesota|United States|      55407|    US|Central|OFF-BI-10001120|Office Supplies|     Binders|Ibico EPK-21 Elec...| 9449.95|       5|       0|       655.61| 4630.4755|        Medium|\n",
            "| 40046|US-2012-163825| 16-6-2012| 19-6-2012|   First Class|   LC-16885|      Lena Creighton|   Consumer|   New York City|      New York|United States|      10009|    US|   East|OFF-BI-10003527|Office Supplies|     Binders|Fellowes PB500 El...|3050.376|       3|     0.2|       632.05|  1143.891|          High|\n",
            "| 38198|US-2014-135013| 25-7-2014| 25-7-2014|      Same Day|   HR-14830|         Harold Ryan|  Corporate|Huntington Beach|    California|United States|      92646|    US|   West|TEC-CO-10001449|     Technology|     Copiers|Hewlett Packard L...| 2399.96|       5|     0.2|       630.05|   839.986|          High|\n",
            "| 32941|CA-2012-111829| 19-3-2012| 20-3-2012|   First Class|   FH-14365|        Fred Hopkins|  Corporate|         Seattle|    Washington|United States|      98115|    US|   West|TEC-CO-10001766|     Technology|     Copiers|  Canon PC940 Copier| 3149.93|       7|       0|       617.92| 1480.4671|          High|\n",
            "| 35594|CA-2014-129021| 24-8-2014| 27-8-2014|  Second Class|   PO-18850|     Patrick O'Brill|   Consumer|     Tallahassee|       Florida|United States|      32303|    US|  South|TEC-PH-10001459|     Technology|      Phones|Samsung Galaxy Me...|4367.896|      13|     0.2|       609.44|  327.5922|        Medium|\n",
            "| 39501|CA-2012-114811| 8-11-2012| 8-11-2012|      Same Day|   KD-16495|       Keith Dawkins|  Corporate|   New York City|      New York|United States|      10024|    US|   East|TEC-MA-10000045|     Technology|    Machines|Zebra ZM400 Therm...|  4643.8|       4|       0|       607.34|  2229.024|        Medium|\n",
            "| 39977|CA-2013-143805| 2-12-2013| 4-12-2013|  Second Class|   JD-15895|    Jonathan Doherty|  Corporate|        Richmond|      Virginia|United States|      23223|    US|  South|OFF-AP-10002945|Office Supplies|  Appliances|Honeywell Envirac...| 2104.55|       7|       0|       594.02|  694.5015|      Critical|\n",
            "| 31806|CA-2012-145352| 16-3-2012| 22-3-2012|Standard Class|   CM-12385|Christopher Martinez|   Consumer|         Atlanta|       Georgia|United States|      30318|    US|  South|OFF-BI-10003527|Office Supplies|     Binders|Fellowes PB500 El...| 6354.95|       5|       0|       581.12|  3177.475|        Medium|\n",
            "| 37817|CA-2014-138289| 17-1-2014| 19-1-2014|  Second Class|   AR-10540|         Andy Reiter|   Consumer|         Jackson|      Michigan|United States|      49201|    US|Central|OFF-BI-10004995|Office Supplies|     Binders|GBC DocuBind P400...| 5443.96|       4|       0|       567.95| 2504.2216|          High|\n",
            "+------+--------------+----------+----------+--------------+-----------+--------------------+-----------+----------------+--------------+-------------+-----------+------+-------+---------------+---------------+------------+--------------------+--------+--------+--------+-------------+----------+--------------+\n",
            "only showing top 20 rows\n",
            "\n"
          ]
        }
      ]
    },
    {
      "cell_type": "code",
      "source": [
        "# drop using Threshold\n",
        "df.na.drop(how=\"any\", thresh=3).show() # thresh = 3 means atleast 3 non nan values are present in row so then row not drop o"
      ],
      "metadata": {
        "colab": {
          "base_uri": "https://localhost:8080/"
        },
        "id": "9aY-alASVywx",
        "outputId": "0b3b948c-fed2-4661-9278-0af393136e9a"
      },
      "execution_count": 47,
      "outputs": [
        {
          "output_type": "stream",
          "name": "stdout",
          "text": [
            "+------+---------------+----------+----------+--------------+-----------+----------------+-----------+-------------+---------------+-------------+-----------+------+------------+----------------+---------------+------------+--------------------+--------+--------+--------+-------------+----------+--------------+\n",
            "|ROW ID|       Order ID|Order Date| Ship Date|     Ship Mode|Customer ID|   Customer Name|    Segment|         City|          State|      Country|Postal Code|Market|      Region|      Product ID|       Category|Sub-Category|        Product Name|   Sales|Quantity|Discount|Shipping Cost|    Profit|Order Priority|\n",
            "+------+---------------+----------+----------+--------------+-----------+----------------+-----------+-------------+---------------+-------------+-----------+------+------------+----------------+---------------+------------+--------------------+--------+--------+--------+-------------+----------+--------------+\n",
            "| 26341| CA-2012-124891| 31-7-2012| 31-7-2012|      Same Day|   RH-19495|     Rick Hansen|   Consumer|New York City|       New York|United States|      10024|    US|        East| TEC-AC-10003033|     Technology| Accessories|Plantronics CS510...| 2309.65|       7|       0|       933.57|  762.1845|      Critical|\n",
            "| 26341|  IN-2013-77878|  5-2-2013|  7-2-2013|  Second Class|   JR-16210|   Justin Ritter|  Corporate|   Wollongong|New South Wales|    Australia|       null|  APAC|     Oceania| FUR-CH-10003950|      Furniture|      Chairs|Novimex Executive...|3709.395|       9|     0.1|       923.63|  -288.765|      Critical|\n",
            "| 25330|  IN-2013-71249|17-10-2013|18-10-2013|   First Class|   CR-12730|    Craig Reiter|   Consumer|     Brisbane|     Queensland|    Australia|       null|  APAC|     Oceania| TEC-PH-10004664|     Technology|      Phones|Nokia Smart Phone...|5175.171|       9|     0.1|       915.49|   919.971|        Medium|\n",
            "| 13524|ES-2013-1579342| 28-1-2013| 30-1-2013|   First Class|   KM-16375|Katherine Murray|Home Office|       Berlin|         Berlin|      Germany|       null|    EU|     Central| TEC-PH-10004583|     Technology|      Phones|Motorola Smart Ph...| 2892.51|       5|     0.1|       910.16|    -96.54|        Medium|\n",
            "| 47221|   SG-2013-4320| 5-11-2013| 6-11-2013|      Same Day|    RH-9495|     Rick Hansen|   Consumer|        Dakar|          Dakar|      Senegal|       null|Africa|      Africa|TEC-SHA-10000501|     Technology|     Copiers|Sharp Wireless Fa...| 2832.96|       8|       0|       903.04|    311.52|      Critical|\n",
            "| 22732|  IN-2013-42360| 28-6-2013|  1-7-2013|  Second Class|   JM-15655|     Jim Mitchum|  Corporate|       Sydney|New South Wales|    Australia|       null|  APAC|     Oceania| TEC-PH-10000030|     Technology|      Phones|Samsung Smart Pho...|2862.675|       5|     0.1|       897.35|   763.275|      Critical|\n",
            "| 30570|  IN-2011-81826| 7-11-2011| 9-11-2011|   First Class|   TS-21340|   Toby Swindell|   Consumer|      Porirua|     Wellington|  New Zealand|       null|  APAC|     Oceania| FUR-CH-10004050|      Furniture|      Chairs|Novimex Executive...| 1822.08|       4|       0|       894.77|    564.84|      Critical|\n",
            "| 31192|  IN-2012-86369| 14-4-2012| 18-4-2012|Standard Class|   MB-18085|      Mick Brown|   Consumer|     Hamilton|        Waikato|  New Zealand|       null|  APAC|     Oceania| FUR-TA-10002958|      Furniture|      Tables|Chromcraft Confer...| 5244.84|       6|       0|       878.38|    996.48|          High|\n",
            "| 40155| CA-2014-135909|14-10-2014|21-10-2014|Standard Class|   JW-15220|       Jane Waco|  Corporate|   Sacramento|     California|United States|      95823|    US|        West| OFF-BI-10003527|Office Supplies|     Binders|Fellowes PB500 El...| 5083.96|       5|     0.2|       867.69|  1906.485|           Low|\n",
            "| 40936| CA-2012-116638| 28-1-2012| 31-1-2012|  Second Class|   JH-15985|     Joseph Holt|   Consumer|      Concord| North Carolina|United States|      28027|    US|       South| FUR-TA-10000198|      Furniture|      Tables|Chromcraft Bull-N...|4297.644|      13|     0.4|       865.74|-1862.3124|      Critical|\n",
            "| 34577| CA-2011-102988|  5-4-2011|  9-4-2011|  Second Class|   GM-14695|    Greg Maxwell|  Corporate|   Alexandria|       Virginia|United States|      22304|    US|       South| OFF-SU-10002881|Office Supplies|    Supplies|Martin Yale Chadl...| 4164.05|       5|       0|       846.54|    83.281|          High|\n",
            "| 28879|  ID-2012-28402| 19-4-2012| 22-4-2012|   First Class|   AJ-10780|  Anthony Jacobs|  Corporate|        Kabul|          Kabul|  Afghanistan|       null|  APAC|Central Asia| FUR-TA-10001889|      Furniture|      Tables|Bevis Conference ...| 4626.15|       5|       0|       835.57|    647.55|          High|\n",
            "| 45794|   SA-2011-1830|27-12-2011|29-12-2011|  Second Class|    MM-7260| Magdelene Morse|   Consumer|        Jizan|          Jizan| Saudi Arabia|       null|  EMEA|        EMEA|TEC-CIS-10001717|     Technology|      Phones|Cisco Smart Phone...| 2616.96|       4|       0|       832.41|    1151.4|      Critical|\n",
            "|  4132| MX-2012-130015|13-11-2012|13-11-2012|      Same Day|   VF-21715|  Vicky Freymann|Home Office|       Toledo|         Parana|       Brazil|       null| LATAM|       South| FUR-CH-10002033|      Furniture|      Chairs|Harbour Creations...|  2221.8|       7|       0|       810.25|    622.02|      Critical|\n",
            "| 27704|  IN-2013-73951|  6-6-2013|  8-6-2013|  Second Class|   PF-19120|    Peter Fuller|   Consumer|   Mudanjiang|   Heilongjiang|        China|       null|  APAC|  North Asia| OFF-AP-10003500|Office Supplies|  Appliances|KitchenAid Microw...| 3701.52|      12|       0|       804.54|   1036.08|      Critical|\n",
            "| 13779|ES-2014-5099955| 31-7-2014|  3-8-2014|  Second Class|   BP-11185|    Ben Peterman|  Corporate|        Paris|  Ile-de-France|       France|       null|    EU|     Central| OFF-AP-10000423|Office Supplies|  Appliances|Breville Refriger...|1869.588|       4|     0.1|       801.66|   186.948|      Critical|\n",
            "| 36178| CA-2014-143567| 3-11-2014| 6-11-2014|  Second Class|   TB-21175|   Thomas Boland|  Corporate|    Henderson|       Kentucky|United States|      42420|    US|       South| TEC-AC-10004145|     Technology| Accessories|Logitech diNovo E...| 2249.91|       9|       0|        780.7|  517.4793|      Critical|\n",
            "| 12069|ES-2014-1651774|  8-9-2014| 14-9-2014|Standard Class|   PJ-18835|   Patrick Jones|  Corporate|        Prato|        Tuscany|        Italy|       null|    EU|       South| OFF-AP-10004512|Office Supplies|  Appliances|   Hoover Stove, Red| 7958.58|      14|       0|       778.32|   3979.08|           Low|\n",
            "| 22096|  IN-2014-11763| 31-1-2014|  1-2-2014|   First Class|   JS-15685|        Jim Sink|  Corporate|   Townsville|     Queensland|    Australia|       null|  APAC|     Oceania| TEC-CO-10000865|     Technology|     Copiers|Brother Fax Machi...|2565.594|       9|     0.1|       766.93|    28.404|      Critical|\n",
            "| 49463|   TZ-2014-8190| 5-12-2014| 7-12-2014|  Second Class|    RH-9555| Ritsa Hightower|   Consumer|       Uvinza|         Kigoma|     Tanzania|       null|Africa|      Africa|OFF-KIT-10004058|Office Supplies|  Appliances|KitchenAid Stove,...| 3409.74|       6|       0|       763.38|    818.28|          High|\n",
            "+------+---------------+----------+----------+--------------+-----------+----------------+-----------+-------------+---------------+-------------+-----------+------+------------+----------------+---------------+------------+--------------------+--------+--------+--------+-------------+----------+--------------+\n",
            "only showing top 20 rows\n",
            "\n"
          ]
        }
      ]
    },
    {
      "cell_type": "code",
      "source": [
        "# Drop using Subset\n",
        "df.na.drop(how=\"any\", subset=[\"Ship Mode\"]).show() # Drop nan values only on specific column"
      ],
      "metadata": {
        "colab": {
          "base_uri": "https://localhost:8080/"
        },
        "id": "QOa9-wqPV-k2",
        "outputId": "73454b65-b527-4a01-d294-cdc3a089718f"
      },
      "execution_count": 50,
      "outputs": [
        {
          "output_type": "stream",
          "name": "stdout",
          "text": [
            "+------+---------------+----------+----------+--------------+-----------+----------------+-----------+-------------+---------------+-------------+-----------+------+------------+----------------+---------------+------------+--------------------+--------+--------+--------+-------------+----------+--------------+\n",
            "|ROW ID|       Order ID|Order Date| Ship Date|     Ship Mode|Customer ID|   Customer Name|    Segment|         City|          State|      Country|Postal Code|Market|      Region|      Product ID|       Category|Sub-Category|        Product Name|   Sales|Quantity|Discount|Shipping Cost|    Profit|Order Priority|\n",
            "+------+---------------+----------+----------+--------------+-----------+----------------+-----------+-------------+---------------+-------------+-----------+------+------------+----------------+---------------+------------+--------------------+--------+--------+--------+-------------+----------+--------------+\n",
            "| 26341| CA-2012-124891| 31-7-2012| 31-7-2012|      Same Day|   RH-19495|     Rick Hansen|   Consumer|New York City|       New York|United States|      10024|    US|        East| TEC-AC-10003033|     Technology| Accessories|Plantronics CS510...| 2309.65|       7|       0|       933.57|  762.1845|      Critical|\n",
            "| 26341|  IN-2013-77878|  5-2-2013|  7-2-2013|  Second Class|   JR-16210|   Justin Ritter|  Corporate|   Wollongong|New South Wales|    Australia|       null|  APAC|     Oceania| FUR-CH-10003950|      Furniture|      Chairs|Novimex Executive...|3709.395|       9|     0.1|       923.63|  -288.765|      Critical|\n",
            "| 25330|  IN-2013-71249|17-10-2013|18-10-2013|   First Class|   CR-12730|    Craig Reiter|   Consumer|     Brisbane|     Queensland|    Australia|       null|  APAC|     Oceania| TEC-PH-10004664|     Technology|      Phones|Nokia Smart Phone...|5175.171|       9|     0.1|       915.49|   919.971|        Medium|\n",
            "| 13524|ES-2013-1579342| 28-1-2013| 30-1-2013|   First Class|   KM-16375|Katherine Murray|Home Office|       Berlin|         Berlin|      Germany|       null|    EU|     Central| TEC-PH-10004583|     Technology|      Phones|Motorola Smart Ph...| 2892.51|       5|     0.1|       910.16|    -96.54|        Medium|\n",
            "| 47221|   SG-2013-4320| 5-11-2013| 6-11-2013|      Same Day|    RH-9495|     Rick Hansen|   Consumer|        Dakar|          Dakar|      Senegal|       null|Africa|      Africa|TEC-SHA-10000501|     Technology|     Copiers|Sharp Wireless Fa...| 2832.96|       8|       0|       903.04|    311.52|      Critical|\n",
            "| 22732|  IN-2013-42360| 28-6-2013|  1-7-2013|  Second Class|   JM-15655|     Jim Mitchum|  Corporate|       Sydney|New South Wales|    Australia|       null|  APAC|     Oceania| TEC-PH-10000030|     Technology|      Phones|Samsung Smart Pho...|2862.675|       5|     0.1|       897.35|   763.275|      Critical|\n",
            "| 30570|  IN-2011-81826| 7-11-2011| 9-11-2011|   First Class|   TS-21340|   Toby Swindell|   Consumer|      Porirua|     Wellington|  New Zealand|       null|  APAC|     Oceania| FUR-CH-10004050|      Furniture|      Chairs|Novimex Executive...| 1822.08|       4|       0|       894.77|    564.84|      Critical|\n",
            "| 31192|  IN-2012-86369| 14-4-2012| 18-4-2012|Standard Class|   MB-18085|      Mick Brown|   Consumer|     Hamilton|        Waikato|  New Zealand|       null|  APAC|     Oceania| FUR-TA-10002958|      Furniture|      Tables|Chromcraft Confer...| 5244.84|       6|       0|       878.38|    996.48|          High|\n",
            "| 40155| CA-2014-135909|14-10-2014|21-10-2014|Standard Class|   JW-15220|       Jane Waco|  Corporate|   Sacramento|     California|United States|      95823|    US|        West| OFF-BI-10003527|Office Supplies|     Binders|Fellowes PB500 El...| 5083.96|       5|     0.2|       867.69|  1906.485|           Low|\n",
            "| 40936| CA-2012-116638| 28-1-2012| 31-1-2012|  Second Class|   JH-15985|     Joseph Holt|   Consumer|      Concord| North Carolina|United States|      28027|    US|       South| FUR-TA-10000198|      Furniture|      Tables|Chromcraft Bull-N...|4297.644|      13|     0.4|       865.74|-1862.3124|      Critical|\n",
            "| 34577| CA-2011-102988|  5-4-2011|  9-4-2011|  Second Class|   GM-14695|    Greg Maxwell|  Corporate|   Alexandria|       Virginia|United States|      22304|    US|       South| OFF-SU-10002881|Office Supplies|    Supplies|Martin Yale Chadl...| 4164.05|       5|       0|       846.54|    83.281|          High|\n",
            "| 28879|  ID-2012-28402| 19-4-2012| 22-4-2012|   First Class|   AJ-10780|  Anthony Jacobs|  Corporate|        Kabul|          Kabul|  Afghanistan|       null|  APAC|Central Asia| FUR-TA-10001889|      Furniture|      Tables|Bevis Conference ...| 4626.15|       5|       0|       835.57|    647.55|          High|\n",
            "| 45794|   SA-2011-1830|27-12-2011|29-12-2011|  Second Class|    MM-7260| Magdelene Morse|   Consumer|        Jizan|          Jizan| Saudi Arabia|       null|  EMEA|        EMEA|TEC-CIS-10001717|     Technology|      Phones|Cisco Smart Phone...| 2616.96|       4|       0|       832.41|    1151.4|      Critical|\n",
            "|  4132| MX-2012-130015|13-11-2012|13-11-2012|      Same Day|   VF-21715|  Vicky Freymann|Home Office|       Toledo|         Parana|       Brazil|       null| LATAM|       South| FUR-CH-10002033|      Furniture|      Chairs|Harbour Creations...|  2221.8|       7|       0|       810.25|    622.02|      Critical|\n",
            "| 27704|  IN-2013-73951|  6-6-2013|  8-6-2013|  Second Class|   PF-19120|    Peter Fuller|   Consumer|   Mudanjiang|   Heilongjiang|        China|       null|  APAC|  North Asia| OFF-AP-10003500|Office Supplies|  Appliances|KitchenAid Microw...| 3701.52|      12|       0|       804.54|   1036.08|      Critical|\n",
            "| 13779|ES-2014-5099955| 31-7-2014|  3-8-2014|  Second Class|   BP-11185|    Ben Peterman|  Corporate|        Paris|  Ile-de-France|       France|       null|    EU|     Central| OFF-AP-10000423|Office Supplies|  Appliances|Breville Refriger...|1869.588|       4|     0.1|       801.66|   186.948|      Critical|\n",
            "| 36178| CA-2014-143567| 3-11-2014| 6-11-2014|  Second Class|   TB-21175|   Thomas Boland|  Corporate|    Henderson|       Kentucky|United States|      42420|    US|       South| TEC-AC-10004145|     Technology| Accessories|Logitech diNovo E...| 2249.91|       9|       0|        780.7|  517.4793|      Critical|\n",
            "| 12069|ES-2014-1651774|  8-9-2014| 14-9-2014|Standard Class|   PJ-18835|   Patrick Jones|  Corporate|        Prato|        Tuscany|        Italy|       null|    EU|       South| OFF-AP-10004512|Office Supplies|  Appliances|   Hoover Stove, Red| 7958.58|      14|       0|       778.32|   3979.08|           Low|\n",
            "| 22096|  IN-2014-11763| 31-1-2014|  1-2-2014|   First Class|   JS-15685|        Jim Sink|  Corporate|   Townsville|     Queensland|    Australia|       null|  APAC|     Oceania| TEC-CO-10000865|     Technology|     Copiers|Brother Fax Machi...|2565.594|       9|     0.1|       766.93|    28.404|      Critical|\n",
            "| 49463|   TZ-2014-8190| 5-12-2014| 7-12-2014|  Second Class|    RH-9555| Ritsa Hightower|   Consumer|       Uvinza|         Kigoma|     Tanzania|       null|Africa|      Africa|OFF-KIT-10004058|Office Supplies|  Appliances|KitchenAid Stove,...| 3409.74|       6|       0|       763.38|    818.28|          High|\n",
            "+------+---------------+----------+----------+--------------+-----------+----------------+-----------+-------------+---------------+-------------+-----------+------+------------+----------------+---------------+------------+--------------------+--------+--------+--------+-------------+----------+--------------+\n",
            "only showing top 20 rows\n",
            "\n"
          ]
        }
      ]
    },
    {
      "cell_type": "code",
      "source": [
        "# Fill the missing values\n",
        "df.na.fill(\"Missing Value\").show() # Where the Nan Values are present it will replaced with \"Missing Value\" word"
      ],
      "metadata": {
        "colab": {
          "base_uri": "https://localhost:8080/"
        },
        "id": "2yXm_MzRWCyG",
        "outputId": "aa353ac7-5194-42ca-ae27-cdbd17291142"
      },
      "execution_count": 52,
      "outputs": [
        {
          "output_type": "stream",
          "name": "stdout",
          "text": [
            "+------+---------------+----------+----------+--------------+-----------+----------------+-----------+-------------+---------------+-------------+-----------+------+------------+----------------+---------------+------------+--------------------+--------+--------+--------+-------------+----------+--------------+\n",
            "|ROW ID|       Order ID|Order Date| Ship Date|     Ship Mode|Customer ID|   Customer Name|    Segment|         City|          State|      Country|Postal Code|Market|      Region|      Product ID|       Category|Sub-Category|        Product Name|   Sales|Quantity|Discount|Shipping Cost|    Profit|Order Priority|\n",
            "+------+---------------+----------+----------+--------------+-----------+----------------+-----------+-------------+---------------+-------------+-----------+------+------------+----------------+---------------+------------+--------------------+--------+--------+--------+-------------+----------+--------------+\n",
            "| 26341| CA-2012-124891| 31-7-2012| 31-7-2012|      Same Day|   RH-19495|     Rick Hansen|   Consumer|New York City|       New York|United States|      10024|    US|        East| TEC-AC-10003033|     Technology| Accessories|Plantronics CS510...| 2309.65|       7|       0|       933.57|  762.1845|      Critical|\n",
            "| 26341|  IN-2013-77878|  5-2-2013|  7-2-2013|  Second Class|   JR-16210|   Justin Ritter|  Corporate|   Wollongong|New South Wales|    Australia|       null|  APAC|     Oceania| FUR-CH-10003950|      Furniture|      Chairs|Novimex Executive...|3709.395|       9|     0.1|       923.63|  -288.765|      Critical|\n",
            "| 25330|  IN-2013-71249|17-10-2013|18-10-2013|   First Class|   CR-12730|    Craig Reiter|   Consumer|     Brisbane|     Queensland|    Australia|       null|  APAC|     Oceania| TEC-PH-10004664|     Technology|      Phones|Nokia Smart Phone...|5175.171|       9|     0.1|       915.49|   919.971|        Medium|\n",
            "| 13524|ES-2013-1579342| 28-1-2013| 30-1-2013|   First Class|   KM-16375|Katherine Murray|Home Office|       Berlin|         Berlin|      Germany|       null|    EU|     Central| TEC-PH-10004583|     Technology|      Phones|Motorola Smart Ph...| 2892.51|       5|     0.1|       910.16|    -96.54|        Medium|\n",
            "| 47221|   SG-2013-4320| 5-11-2013| 6-11-2013|      Same Day|    RH-9495|     Rick Hansen|   Consumer|        Dakar|          Dakar|      Senegal|       null|Africa|      Africa|TEC-SHA-10000501|     Technology|     Copiers|Sharp Wireless Fa...| 2832.96|       8|       0|       903.04|    311.52|      Critical|\n",
            "| 22732|  IN-2013-42360| 28-6-2013|  1-7-2013|  Second Class|   JM-15655|     Jim Mitchum|  Corporate|       Sydney|New South Wales|    Australia|       null|  APAC|     Oceania| TEC-PH-10000030|     Technology|      Phones|Samsung Smart Pho...|2862.675|       5|     0.1|       897.35|   763.275|      Critical|\n",
            "| 30570|  IN-2011-81826| 7-11-2011| 9-11-2011|   First Class|   TS-21340|   Toby Swindell|   Consumer|      Porirua|     Wellington|  New Zealand|       null|  APAC|     Oceania| FUR-CH-10004050|      Furniture|      Chairs|Novimex Executive...| 1822.08|       4|       0|       894.77|    564.84|      Critical|\n",
            "| 31192|  IN-2012-86369| 14-4-2012| 18-4-2012|Standard Class|   MB-18085|      Mick Brown|   Consumer|     Hamilton|        Waikato|  New Zealand|       null|  APAC|     Oceania| FUR-TA-10002958|      Furniture|      Tables|Chromcraft Confer...| 5244.84|       6|       0|       878.38|    996.48|          High|\n",
            "| 40155| CA-2014-135909|14-10-2014|21-10-2014|Standard Class|   JW-15220|       Jane Waco|  Corporate|   Sacramento|     California|United States|      95823|    US|        West| OFF-BI-10003527|Office Supplies|     Binders|Fellowes PB500 El...| 5083.96|       5|     0.2|       867.69|  1906.485|           Low|\n",
            "| 40936| CA-2012-116638| 28-1-2012| 31-1-2012|  Second Class|   JH-15985|     Joseph Holt|   Consumer|      Concord| North Carolina|United States|      28027|    US|       South| FUR-TA-10000198|      Furniture|      Tables|Chromcraft Bull-N...|4297.644|      13|     0.4|       865.74|-1862.3124|      Critical|\n",
            "| 34577| CA-2011-102988|  5-4-2011|  9-4-2011|  Second Class|   GM-14695|    Greg Maxwell|  Corporate|   Alexandria|       Virginia|United States|      22304|    US|       South| OFF-SU-10002881|Office Supplies|    Supplies|Martin Yale Chadl...| 4164.05|       5|       0|       846.54|    83.281|          High|\n",
            "| 28879|  ID-2012-28402| 19-4-2012| 22-4-2012|   First Class|   AJ-10780|  Anthony Jacobs|  Corporate|        Kabul|          Kabul|  Afghanistan|       null|  APAC|Central Asia| FUR-TA-10001889|      Furniture|      Tables|Bevis Conference ...| 4626.15|       5|       0|       835.57|    647.55|          High|\n",
            "| 45794|   SA-2011-1830|27-12-2011|29-12-2011|  Second Class|    MM-7260| Magdelene Morse|   Consumer|        Jizan|          Jizan| Saudi Arabia|       null|  EMEA|        EMEA|TEC-CIS-10001717|     Technology|      Phones|Cisco Smart Phone...| 2616.96|       4|       0|       832.41|    1151.4|      Critical|\n",
            "|  4132| MX-2012-130015|13-11-2012|13-11-2012|      Same Day|   VF-21715|  Vicky Freymann|Home Office|       Toledo|         Parana|       Brazil|       null| LATAM|       South| FUR-CH-10002033|      Furniture|      Chairs|Harbour Creations...|  2221.8|       7|       0|       810.25|    622.02|      Critical|\n",
            "| 27704|  IN-2013-73951|  6-6-2013|  8-6-2013|  Second Class|   PF-19120|    Peter Fuller|   Consumer|   Mudanjiang|   Heilongjiang|        China|       null|  APAC|  North Asia| OFF-AP-10003500|Office Supplies|  Appliances|KitchenAid Microw...| 3701.52|      12|       0|       804.54|   1036.08|      Critical|\n",
            "| 13779|ES-2014-5099955| 31-7-2014|  3-8-2014|  Second Class|   BP-11185|    Ben Peterman|  Corporate|        Paris|  Ile-de-France|       France|       null|    EU|     Central| OFF-AP-10000423|Office Supplies|  Appliances|Breville Refriger...|1869.588|       4|     0.1|       801.66|   186.948|      Critical|\n",
            "| 36178| CA-2014-143567| 3-11-2014| 6-11-2014|  Second Class|   TB-21175|   Thomas Boland|  Corporate|    Henderson|       Kentucky|United States|      42420|    US|       South| TEC-AC-10004145|     Technology| Accessories|Logitech diNovo E...| 2249.91|       9|       0|        780.7|  517.4793|      Critical|\n",
            "| 12069|ES-2014-1651774|  8-9-2014| 14-9-2014|Standard Class|   PJ-18835|   Patrick Jones|  Corporate|        Prato|        Tuscany|        Italy|       null|    EU|       South| OFF-AP-10004512|Office Supplies|  Appliances|   Hoover Stove, Red| 7958.58|      14|       0|       778.32|   3979.08|           Low|\n",
            "| 22096|  IN-2014-11763| 31-1-2014|  1-2-2014|   First Class|   JS-15685|        Jim Sink|  Corporate|   Townsville|     Queensland|    Australia|       null|  APAC|     Oceania| TEC-CO-10000865|     Technology|     Copiers|Brother Fax Machi...|2565.594|       9|     0.1|       766.93|    28.404|      Critical|\n",
            "| 49463|   TZ-2014-8190| 5-12-2014| 7-12-2014|  Second Class|    RH-9555| Ritsa Hightower|   Consumer|       Uvinza|         Kigoma|     Tanzania|       null|Africa|      Africa|OFF-KIT-10004058|Office Supplies|  Appliances|KitchenAid Stove,...| 3409.74|       6|       0|       763.38|    818.28|          High|\n",
            "+------+---------------+----------+----------+--------------+-----------+----------------+-----------+-------------+---------------+-------------+-----------+------+------------+----------------+---------------+------------+--------------------+--------+--------+--------+-------------+----------+--------------+\n",
            "only showing top 20 rows\n",
            "\n"
          ]
        }
      ]
    },
    {
      "cell_type": "code",
      "source": [],
      "metadata": {
        "id": "ZkOfMUOEWir8"
      },
      "execution_count": null,
      "outputs": []
    },
    {
      "cell_type": "code",
      "source": [
        "# df.na.fill(\"Missing Value\", \"Cabin\").show() # Where the Nan Values are present it will replaced with \"Missing Value\" word on"
      ],
      "metadata": {
        "id": "ghABOadsWO5I"
      },
      "execution_count": 54,
      "outputs": []
    },
    {
      "cell_type": "code",
      "source": [
        "df.show()"
      ],
      "metadata": {
        "colab": {
          "base_uri": "https://localhost:8080/"
        },
        "id": "yCOYz1urXDYF",
        "outputId": "de23712b-467d-416f-f647-e217f2088982"
      },
      "execution_count": 59,
      "outputs": [
        {
          "output_type": "stream",
          "name": "stdout",
          "text": [
            "+------+---------------+----------+----------+--------------+-----------+----------------+-----------+-------------+---------------+-------------+-----------+------+------------+----------------+---------------+------------+--------------------+--------+--------+--------+-------------+----------+--------------+\n",
            "|ROW ID|       Order ID|Order Date| Ship Date|     Ship Mode|Customer ID|   Customer Name|    Segment|         City|          State|      Country|Postal Code|Market|      Region|      Product ID|       Category|Sub-Category|        Product Name|   Sales|Quantity|Discount|Shipping Cost|    Profit|Order Priority|\n",
            "+------+---------------+----------+----------+--------------+-----------+----------------+-----------+-------------+---------------+-------------+-----------+------+------------+----------------+---------------+------------+--------------------+--------+--------+--------+-------------+----------+--------------+\n",
            "| 26341| CA-2012-124891| 31-7-2012| 31-7-2012|      Same Day|   RH-19495|     Rick Hansen|   Consumer|New York City|       New York|United States|      10024|    US|        East| TEC-AC-10003033|     Technology| Accessories|Plantronics CS510...| 2309.65|       7|       0|       933.57|  762.1845|      Critical|\n",
            "| 26341|  IN-2013-77878|  5-2-2013|  7-2-2013|  Second Class|   JR-16210|   Justin Ritter|  Corporate|   Wollongong|New South Wales|    Australia|       null|  APAC|     Oceania| FUR-CH-10003950|      Furniture|      Chairs|Novimex Executive...|3709.395|       9|     0.1|       923.63|  -288.765|      Critical|\n",
            "| 25330|  IN-2013-71249|17-10-2013|18-10-2013|   First Class|   CR-12730|    Craig Reiter|   Consumer|     Brisbane|     Queensland|    Australia|       null|  APAC|     Oceania| TEC-PH-10004664|     Technology|      Phones|Nokia Smart Phone...|5175.171|       9|     0.1|       915.49|   919.971|        Medium|\n",
            "| 13524|ES-2013-1579342| 28-1-2013| 30-1-2013|   First Class|   KM-16375|Katherine Murray|Home Office|       Berlin|         Berlin|      Germany|       null|    EU|     Central| TEC-PH-10004583|     Technology|      Phones|Motorola Smart Ph...| 2892.51|       5|     0.1|       910.16|    -96.54|        Medium|\n",
            "| 47221|   SG-2013-4320| 5-11-2013| 6-11-2013|      Same Day|    RH-9495|     Rick Hansen|   Consumer|        Dakar|          Dakar|      Senegal|       null|Africa|      Africa|TEC-SHA-10000501|     Technology|     Copiers|Sharp Wireless Fa...| 2832.96|       8|       0|       903.04|    311.52|      Critical|\n",
            "| 22732|  IN-2013-42360| 28-6-2013|  1-7-2013|  Second Class|   JM-15655|     Jim Mitchum|  Corporate|       Sydney|New South Wales|    Australia|       null|  APAC|     Oceania| TEC-PH-10000030|     Technology|      Phones|Samsung Smart Pho...|2862.675|       5|     0.1|       897.35|   763.275|      Critical|\n",
            "| 30570|  IN-2011-81826| 7-11-2011| 9-11-2011|   First Class|   TS-21340|   Toby Swindell|   Consumer|      Porirua|     Wellington|  New Zealand|       null|  APAC|     Oceania| FUR-CH-10004050|      Furniture|      Chairs|Novimex Executive...| 1822.08|       4|       0|       894.77|    564.84|      Critical|\n",
            "| 31192|  IN-2012-86369| 14-4-2012| 18-4-2012|Standard Class|   MB-18085|      Mick Brown|   Consumer|     Hamilton|        Waikato|  New Zealand|       null|  APAC|     Oceania| FUR-TA-10002958|      Furniture|      Tables|Chromcraft Confer...| 5244.84|       6|       0|       878.38|    996.48|          High|\n",
            "| 40155| CA-2014-135909|14-10-2014|21-10-2014|Standard Class|   JW-15220|       Jane Waco|  Corporate|   Sacramento|     California|United States|      95823|    US|        West| OFF-BI-10003527|Office Supplies|     Binders|Fellowes PB500 El...| 5083.96|       5|     0.2|       867.69|  1906.485|           Low|\n",
            "| 40936| CA-2012-116638| 28-1-2012| 31-1-2012|  Second Class|   JH-15985|     Joseph Holt|   Consumer|      Concord| North Carolina|United States|      28027|    US|       South| FUR-TA-10000198|      Furniture|      Tables|Chromcraft Bull-N...|4297.644|      13|     0.4|       865.74|-1862.3124|      Critical|\n",
            "| 34577| CA-2011-102988|  5-4-2011|  9-4-2011|  Second Class|   GM-14695|    Greg Maxwell|  Corporate|   Alexandria|       Virginia|United States|      22304|    US|       South| OFF-SU-10002881|Office Supplies|    Supplies|Martin Yale Chadl...| 4164.05|       5|       0|       846.54|    83.281|          High|\n",
            "| 28879|  ID-2012-28402| 19-4-2012| 22-4-2012|   First Class|   AJ-10780|  Anthony Jacobs|  Corporate|        Kabul|          Kabul|  Afghanistan|       null|  APAC|Central Asia| FUR-TA-10001889|      Furniture|      Tables|Bevis Conference ...| 4626.15|       5|       0|       835.57|    647.55|          High|\n",
            "| 45794|   SA-2011-1830|27-12-2011|29-12-2011|  Second Class|    MM-7260| Magdelene Morse|   Consumer|        Jizan|          Jizan| Saudi Arabia|       null|  EMEA|        EMEA|TEC-CIS-10001717|     Technology|      Phones|Cisco Smart Phone...| 2616.96|       4|       0|       832.41|    1151.4|      Critical|\n",
            "|  4132| MX-2012-130015|13-11-2012|13-11-2012|      Same Day|   VF-21715|  Vicky Freymann|Home Office|       Toledo|         Parana|       Brazil|       null| LATAM|       South| FUR-CH-10002033|      Furniture|      Chairs|Harbour Creations...|  2221.8|       7|       0|       810.25|    622.02|      Critical|\n",
            "| 27704|  IN-2013-73951|  6-6-2013|  8-6-2013|  Second Class|   PF-19120|    Peter Fuller|   Consumer|   Mudanjiang|   Heilongjiang|        China|       null|  APAC|  North Asia| OFF-AP-10003500|Office Supplies|  Appliances|KitchenAid Microw...| 3701.52|      12|       0|       804.54|   1036.08|      Critical|\n",
            "| 13779|ES-2014-5099955| 31-7-2014|  3-8-2014|  Second Class|   BP-11185|    Ben Peterman|  Corporate|        Paris|  Ile-de-France|       France|       null|    EU|     Central| OFF-AP-10000423|Office Supplies|  Appliances|Breville Refriger...|1869.588|       4|     0.1|       801.66|   186.948|      Critical|\n",
            "| 36178| CA-2014-143567| 3-11-2014| 6-11-2014|  Second Class|   TB-21175|   Thomas Boland|  Corporate|    Henderson|       Kentucky|United States|      42420|    US|       South| TEC-AC-10004145|     Technology| Accessories|Logitech diNovo E...| 2249.91|       9|       0|        780.7|  517.4793|      Critical|\n",
            "| 12069|ES-2014-1651774|  8-9-2014| 14-9-2014|Standard Class|   PJ-18835|   Patrick Jones|  Corporate|        Prato|        Tuscany|        Italy|       null|    EU|       South| OFF-AP-10004512|Office Supplies|  Appliances|   Hoover Stove, Red| 7958.58|      14|       0|       778.32|   3979.08|           Low|\n",
            "| 22096|  IN-2014-11763| 31-1-2014|  1-2-2014|   First Class|   JS-15685|        Jim Sink|  Corporate|   Townsville|     Queensland|    Australia|       null|  APAC|     Oceania| TEC-CO-10000865|     Technology|     Copiers|Brother Fax Machi...|2565.594|       9|     0.1|       766.93|    28.404|      Critical|\n",
            "| 49463|   TZ-2014-8190| 5-12-2014| 7-12-2014|  Second Class|    RH-9555| Ritsa Hightower|   Consumer|       Uvinza|         Kigoma|     Tanzania|       null|Africa|      Africa|OFF-KIT-10004058|Office Supplies|  Appliances|KitchenAid Stove,...| 3409.74|       6|       0|       763.38|    818.28|          High|\n",
            "+------+---------------+----------+----------+--------------+-----------+----------------+-----------+-------------+---------------+-------------+-----------+------+------------+----------------+---------------+------------+--------------------+--------+--------+--------+-------------+----------+--------------+\n",
            "only showing top 20 rows\n",
            "\n"
          ]
        }
      ]
    },
    {
      "cell_type": "code",
      "source": [
        "df.printSchema()"
      ],
      "metadata": {
        "colab": {
          "base_uri": "https://localhost:8080/"
        },
        "id": "7EDHZc5VXLOP",
        "outputId": "5c61f8a2-2a8f-4b66-c34e-912e95949274"
      },
      "execution_count": 62,
      "outputs": [
        {
          "output_type": "stream",
          "name": "stdout",
          "text": [
            "root\n",
            " |-- ROW ID: integer (nullable = true)\n",
            " |-- Order ID: string (nullable = true)\n",
            " |-- Order Date: string (nullable = true)\n",
            " |-- Ship Date: string (nullable = true)\n",
            " |-- Ship Mode: string (nullable = true)\n",
            " |-- Customer ID: string (nullable = true)\n",
            " |-- Customer Name: string (nullable = true)\n",
            " |-- Segment: string (nullable = true)\n",
            " |-- City: string (nullable = true)\n",
            " |-- State: string (nullable = true)\n",
            " |-- Country: string (nullable = true)\n",
            " |-- Postal Code: integer (nullable = true)\n",
            " |-- Market: string (nullable = true)\n",
            " |-- Region: string (nullable = true)\n",
            " |-- Product ID: string (nullable = true)\n",
            " |-- Category: string (nullable = true)\n",
            " |-- Sub-Category: string (nullable = true)\n",
            " |-- Product Name: string (nullable = true)\n",
            " |-- Sales: string (nullable = true)\n",
            " |-- Quantity: string (nullable = true)\n",
            " |-- Discount: string (nullable = true)\n",
            " |-- Shipping Cost: double (nullable = true)\n",
            " |-- Profit: double (nullable = true)\n",
            " |-- Order Priority: string (nullable = true)\n",
            "\n"
          ]
        }
      ]
    },
    {
      "cell_type": "code",
      "source": [
        "# Fill nan Values with mean\n",
        "from pyspark.ml.feature import Imputer\n",
        "\n",
        "imputer = Imputer(\n",
        "    inputCols=[\"Profit\"],\n",
        "    outputCols=[\"{}_inputed\".format(c) for c in [\"Profit\"]]\n",
        ").setStrategy(\"mean\") # Change the setStrategy with median and mode also"
      ],
      "metadata": {
        "id": "q-pk6GswWYZJ"
      },
      "execution_count": 63,
      "outputs": []
    },
    {
      "cell_type": "code",
      "source": [
        "imputer.fit(df).transform(df).show()"
      ],
      "metadata": {
        "colab": {
          "base_uri": "https://localhost:8080/"
        },
        "id": "grDijzzTWusc",
        "outputId": "1991df3b-bdd3-4557-aa2b-79e8e7b119b4"
      },
      "execution_count": 64,
      "outputs": [
        {
          "output_type": "stream",
          "name": "stdout",
          "text": [
            "+------+---------------+----------+----------+--------------+-----------+----------------+-----------+-------------+---------------+-------------+-----------+------+------------+----------------+---------------+------------+--------------------+--------+--------+--------+-------------+----------+--------------+--------------+\n",
            "|ROW ID|       Order ID|Order Date| Ship Date|     Ship Mode|Customer ID|   Customer Name|    Segment|         City|          State|      Country|Postal Code|Market|      Region|      Product ID|       Category|Sub-Category|        Product Name|   Sales|Quantity|Discount|Shipping Cost|    Profit|Order Priority|Profit_inputed|\n",
            "+------+---------------+----------+----------+--------------+-----------+----------------+-----------+-------------+---------------+-------------+-----------+------+------------+----------------+---------------+------------+--------------------+--------+--------+--------+-------------+----------+--------------+--------------+\n",
            "| 26341| CA-2012-124891| 31-7-2012| 31-7-2012|      Same Day|   RH-19495|     Rick Hansen|   Consumer|New York City|       New York|United States|      10024|    US|        East| TEC-AC-10003033|     Technology| Accessories|Plantronics CS510...| 2309.65|       7|       0|       933.57|  762.1845|      Critical|      762.1845|\n",
            "| 26341|  IN-2013-77878|  5-2-2013|  7-2-2013|  Second Class|   JR-16210|   Justin Ritter|  Corporate|   Wollongong|New South Wales|    Australia|       null|  APAC|     Oceania| FUR-CH-10003950|      Furniture|      Chairs|Novimex Executive...|3709.395|       9|     0.1|       923.63|  -288.765|      Critical|      -288.765|\n",
            "| 25330|  IN-2013-71249|17-10-2013|18-10-2013|   First Class|   CR-12730|    Craig Reiter|   Consumer|     Brisbane|     Queensland|    Australia|       null|  APAC|     Oceania| TEC-PH-10004664|     Technology|      Phones|Nokia Smart Phone...|5175.171|       9|     0.1|       915.49|   919.971|        Medium|       919.971|\n",
            "| 13524|ES-2013-1579342| 28-1-2013| 30-1-2013|   First Class|   KM-16375|Katherine Murray|Home Office|       Berlin|         Berlin|      Germany|       null|    EU|     Central| TEC-PH-10004583|     Technology|      Phones|Motorola Smart Ph...| 2892.51|       5|     0.1|       910.16|    -96.54|        Medium|        -96.54|\n",
            "| 47221|   SG-2013-4320| 5-11-2013| 6-11-2013|      Same Day|    RH-9495|     Rick Hansen|   Consumer|        Dakar|          Dakar|      Senegal|       null|Africa|      Africa|TEC-SHA-10000501|     Technology|     Copiers|Sharp Wireless Fa...| 2832.96|       8|       0|       903.04|    311.52|      Critical|        311.52|\n",
            "| 22732|  IN-2013-42360| 28-6-2013|  1-7-2013|  Second Class|   JM-15655|     Jim Mitchum|  Corporate|       Sydney|New South Wales|    Australia|       null|  APAC|     Oceania| TEC-PH-10000030|     Technology|      Phones|Samsung Smart Pho...|2862.675|       5|     0.1|       897.35|   763.275|      Critical|       763.275|\n",
            "| 30570|  IN-2011-81826| 7-11-2011| 9-11-2011|   First Class|   TS-21340|   Toby Swindell|   Consumer|      Porirua|     Wellington|  New Zealand|       null|  APAC|     Oceania| FUR-CH-10004050|      Furniture|      Chairs|Novimex Executive...| 1822.08|       4|       0|       894.77|    564.84|      Critical|        564.84|\n",
            "| 31192|  IN-2012-86369| 14-4-2012| 18-4-2012|Standard Class|   MB-18085|      Mick Brown|   Consumer|     Hamilton|        Waikato|  New Zealand|       null|  APAC|     Oceania| FUR-TA-10002958|      Furniture|      Tables|Chromcraft Confer...| 5244.84|       6|       0|       878.38|    996.48|          High|        996.48|\n",
            "| 40155| CA-2014-135909|14-10-2014|21-10-2014|Standard Class|   JW-15220|       Jane Waco|  Corporate|   Sacramento|     California|United States|      95823|    US|        West| OFF-BI-10003527|Office Supplies|     Binders|Fellowes PB500 El...| 5083.96|       5|     0.2|       867.69|  1906.485|           Low|      1906.485|\n",
            "| 40936| CA-2012-116638| 28-1-2012| 31-1-2012|  Second Class|   JH-15985|     Joseph Holt|   Consumer|      Concord| North Carolina|United States|      28027|    US|       South| FUR-TA-10000198|      Furniture|      Tables|Chromcraft Bull-N...|4297.644|      13|     0.4|       865.74|-1862.3124|      Critical|    -1862.3124|\n",
            "| 34577| CA-2011-102988|  5-4-2011|  9-4-2011|  Second Class|   GM-14695|    Greg Maxwell|  Corporate|   Alexandria|       Virginia|United States|      22304|    US|       South| OFF-SU-10002881|Office Supplies|    Supplies|Martin Yale Chadl...| 4164.05|       5|       0|       846.54|    83.281|          High|        83.281|\n",
            "| 28879|  ID-2012-28402| 19-4-2012| 22-4-2012|   First Class|   AJ-10780|  Anthony Jacobs|  Corporate|        Kabul|          Kabul|  Afghanistan|       null|  APAC|Central Asia| FUR-TA-10001889|      Furniture|      Tables|Bevis Conference ...| 4626.15|       5|       0|       835.57|    647.55|          High|        647.55|\n",
            "| 45794|   SA-2011-1830|27-12-2011|29-12-2011|  Second Class|    MM-7260| Magdelene Morse|   Consumer|        Jizan|          Jizan| Saudi Arabia|       null|  EMEA|        EMEA|TEC-CIS-10001717|     Technology|      Phones|Cisco Smart Phone...| 2616.96|       4|       0|       832.41|    1151.4|      Critical|        1151.4|\n",
            "|  4132| MX-2012-130015|13-11-2012|13-11-2012|      Same Day|   VF-21715|  Vicky Freymann|Home Office|       Toledo|         Parana|       Brazil|       null| LATAM|       South| FUR-CH-10002033|      Furniture|      Chairs|Harbour Creations...|  2221.8|       7|       0|       810.25|    622.02|      Critical|        622.02|\n",
            "| 27704|  IN-2013-73951|  6-6-2013|  8-6-2013|  Second Class|   PF-19120|    Peter Fuller|   Consumer|   Mudanjiang|   Heilongjiang|        China|       null|  APAC|  North Asia| OFF-AP-10003500|Office Supplies|  Appliances|KitchenAid Microw...| 3701.52|      12|       0|       804.54|   1036.08|      Critical|       1036.08|\n",
            "| 13779|ES-2014-5099955| 31-7-2014|  3-8-2014|  Second Class|   BP-11185|    Ben Peterman|  Corporate|        Paris|  Ile-de-France|       France|       null|    EU|     Central| OFF-AP-10000423|Office Supplies|  Appliances|Breville Refriger...|1869.588|       4|     0.1|       801.66|   186.948|      Critical|       186.948|\n",
            "| 36178| CA-2014-143567| 3-11-2014| 6-11-2014|  Second Class|   TB-21175|   Thomas Boland|  Corporate|    Henderson|       Kentucky|United States|      42420|    US|       South| TEC-AC-10004145|     Technology| Accessories|Logitech diNovo E...| 2249.91|       9|       0|        780.7|  517.4793|      Critical|      517.4793|\n",
            "| 12069|ES-2014-1651774|  8-9-2014| 14-9-2014|Standard Class|   PJ-18835|   Patrick Jones|  Corporate|        Prato|        Tuscany|        Italy|       null|    EU|       South| OFF-AP-10004512|Office Supplies|  Appliances|   Hoover Stove, Red| 7958.58|      14|       0|       778.32|   3979.08|           Low|       3979.08|\n",
            "| 22096|  IN-2014-11763| 31-1-2014|  1-2-2014|   First Class|   JS-15685|        Jim Sink|  Corporate|   Townsville|     Queensland|    Australia|       null|  APAC|     Oceania| TEC-CO-10000865|     Technology|     Copiers|Brother Fax Machi...|2565.594|       9|     0.1|       766.93|    28.404|      Critical|        28.404|\n",
            "| 49463|   TZ-2014-8190| 5-12-2014| 7-12-2014|  Second Class|    RH-9555| Ritsa Hightower|   Consumer|       Uvinza|         Kigoma|     Tanzania|       null|Africa|      Africa|OFF-KIT-10004058|Office Supplies|  Appliances|KitchenAid Stove,...| 3409.74|       6|       0|       763.38|    818.28|          High|        818.28|\n",
            "+------+---------------+----------+----------+--------------+-----------+----------------+-----------+-------------+---------------+-------------+-----------+------+------------+----------------+---------------+------------+--------------------+--------+--------+--------+-------------+----------+--------------+--------------+\n",
            "only showing top 20 rows\n",
            "\n"
          ]
        }
      ]
    },
    {
      "cell_type": "code",
      "source": [
        "df.filter(\"Quantity>10\").show()"
      ],
      "metadata": {
        "colab": {
          "base_uri": "https://localhost:8080/"
        },
        "id": "ya0E2AmIWxC0",
        "outputId": "a90b4e78-af82-4e4e-ea3f-47fcef9e6610"
      },
      "execution_count": 66,
      "outputs": [
        {
          "output_type": "stream",
          "name": "stdout",
          "text": [
            "+------+---------------+----------+----------+--------------+-----------+-----------------+-----------+------------------+------------------+--------------+-----------+------+------------+----------------+---------------+------------+--------------------+--------+--------+--------+-------------+----------+--------------+\n",
            "|ROW ID|       Order ID|Order Date| Ship Date|     Ship Mode|Customer ID|    Customer Name|    Segment|              City|             State|       Country|Postal Code|Market|      Region|      Product ID|       Category|Sub-Category|        Product Name|   Sales|Quantity|Discount|Shipping Cost|    Profit|Order Priority|\n",
            "+------+---------------+----------+----------+--------------+-----------+-----------------+-----------+------------------+------------------+--------------+-----------+------+------------+----------------+---------------+------------+--------------------+--------+--------+--------+-------------+----------+--------------+\n",
            "| 40936| CA-2012-116638| 28-1-2012| 31-1-2012|  Second Class|   JH-15985|      Joseph Holt|   Consumer|           Concord|    North Carolina| United States|      28027|    US|       South| FUR-TA-10000198|      Furniture|      Tables|Chromcraft Bull-N...|4297.644|      13|     0.4|       865.74|-1862.3124|      Critical|\n",
            "| 27704|  IN-2013-73951|  6-6-2013|  8-6-2013|  Second Class|   PF-19120|     Peter Fuller|   Consumer|        Mudanjiang|      Heilongjiang|         China|       null|  APAC|  North Asia| OFF-AP-10003500|Office Supplies|  Appliances|KitchenAid Microw...| 3701.52|      12|       0|       804.54|   1036.08|      Critical|\n",
            "| 12069|ES-2014-1651774|  8-9-2014| 14-9-2014|Standard Class|   PJ-18835|    Patrick Jones|  Corporate|             Prato|           Tuscany|         Italy|       null|    EU|       South| OFF-AP-10004512|Office Supplies|  Appliances|   Hoover Stove, Red| 7958.58|      14|       0|       778.32|   3979.08|           Low|\n",
            "| 32543| CA-2011-168494|12-12-2011|14-12-2011|  Second Class|   NP-18700|       Nora Preis|   Consumer|            Fresno|        California| United States|      93727|    US|        West| FUR-TA-10003473|      Furniture|      Tables|Bretford Rectangu...|3610.848|      12|     0.2|       683.12|  135.4068|          High|\n",
            "| 15380|ES-2014-2637201| 14-1-2014| 18-1-2014|Standard Class|   PO-18865|Patrick O'Donnell|   Consumer|  Stockton-on-Tees|           England|United Kingdom|       null|    EU|       North| TEC-CO-10000013|     Technology|     Copiers|Brother Fax Machi...| 4141.02|      13|       0|       668.96|   1697.67|          High|\n",
            "| 25795|  IN-2014-76016| 26-9-2014| 28-9-2014|  Second Class|   VG-21805|      Vivek Grady|  Corporate|Thiruvananthapuram|            Kerala|         India|       null|  APAC|Central Asia| FUR-BO-10004852|      Furniture|   Bookcases|Sauder Classic Bo...| 5667.87|      13|       0|       658.35|   2097.03|        Medium|\n",
            "|  6550| MX-2014-126984|18-12-2014|20-12-2014|  Second Class|   JH-15820|      John Huston|   Consumer|          Paysand�|          Paysand�|       Uruguay|       null| LATAM|       South| FUR-CH-10000891|      Furniture|      Chairs|Harbour Creations...| 3473.14|      11|       0|       634.53|    868.12|          High|\n",
            "| 35594| CA-2014-129021| 24-8-2014| 27-8-2014|  Second Class|   PO-18850|  Patrick O'Brill|   Consumer|       Tallahassee|           Florida| United States|      32303|    US|       South| TEC-PH-10001459|     Technology|      Phones|Samsung Galaxy Me...|4367.896|      13|     0.2|       609.44|  327.5922|        Medium|\n",
            "| 25314|  IN-2014-66615| 18-1-2014| 23-1-2014|Standard Class|   DB-13405|    Denny Blanton|   Consumer|              Wuxi|           Jiangsu|         China|       null|  APAC|  North Asia| FUR-CH-10000027|      Furniture|      Chairs|SAFCO Executive L...|    5049|      11|       0|        595.5|    656.37|          High|\n",
            "|  4960| MX-2011-110275|22-11-2011|23-11-2011|   First Class|   ST-20530|         Shui Tom|   Consumer|        Chinandega|        Chinandega|     Nicaragua|       null| LATAM|     Central| OFF-AP-10001630|Office Supplies|  Appliances|Hamilton Beach Mi...| 2443.48|      13|       0|       589.29|    121.94|        Medium|\n",
            "| 13879|ES-2014-3785216|19-11-2014|23-11-2014|Standard Class|   HG-14845|     Harry Greene|   Consumer|             Lille|Nord-Pas-de-Calais|        France|       null|    EU|     Central| FUR-CH-10002891|      Furniture|      Chairs|Hon Executive Lea...|5729.346|      14|     0.1|       572.95|    63.546|          High|\n",
            "| 50788|   MO-2014-2000|28-10-2014|30-10-2014|  Second Class|    DP-3105|     Dave Poirier|  Corporate|            Meknes|  Mekn�s-Tafilalet|       Morocco|       null|Africa|      Africa|TEC-CAN-10001437|     Technology|     Copiers|Canon Wireless Fa...| 5301.24|      14|       0|       568.45|   2597.28|        Medium|\n",
            "| 11743|IT-2013-5208514| 13-3-2013| 13-3-2013|      Same Day|   VM-21685|  Valerie Mitchum|Home Office|    Bergen op Zoom|     North Brabant|   Netherlands|       null|    EU|     Central| FUR-CH-10001582|      Furniture|      Chairs|Office Star Execu...|2570.865|      11|     0.5|       520.89| -2211.165|          High|\n",
            "| 14070|IT-2011-1978668| 16-2-2011| 19-2-2011|  Second Class|   ON-18715|    Odella Nelson|  Corporate|             Muret|     Midi-Pyr�n�es|        France|       null|    EU|     Central| FUR-CH-10002203|      Furniture|      Chairs|SAFCO Executive L...|  4544.1|      11|     0.1|       506.27|   1868.13|        Medium|\n",
            "| 40336| CA-2013-117121|18-12-2013|22-12-2013|Standard Class|   AB-10105|    Adrian Barton|   Consumer|           Detroit|          Michigan| United States|      48205|    US|     Central| OFF-BI-10000545|Office Supplies|     Binders|GBC Ibimaster 500...| 9892.74|      13|       0|        498.7|   4946.37|        Medium|\n",
            "|  2283| MX-2012-164791| 6-12-2012| 8-12-2012|   First Class|   PV-18985|    Paul Van Hugh|Home Office|             Salto|         S�o Paulo|        Brazil|       null| LATAM|       South| TEC-AC-10000376|     Technology| Accessories|Memorex Router, B...| 2297.96|      14|       0|       483.26|    988.12|          High|\n",
            "| 25678|  IN-2011-30292| 13-5-2011| 17-5-2011|Standard Class|   NC-18625|      Noah Childs|  Corporate|             Dhaka|             Dhaka|    Bangladesh|       null|  APAC|Central Asia| TEC-AC-10000866|     Technology| Accessories|Belkin Router, Er...| 3078.72|      12|       0|       474.44|    523.08|          High|\n",
            "|  6449| MX-2014-111941|  9-4-2014| 13-4-2014|Standard Class|   DM-12955|     Dario Medina|  Corporate|             Mixco|         Guatemala|     Guatemala|       null| LATAM|     Central| FUR-TA-10001642|      Furniture|      Tables|Lesro Round Table...|3117.088|      13|     0.2|        466.7|    38.948|          High|\n",
            "| 14405|ES-2014-2440513|22-11-2014|28-11-2014|Standard Class|   MF-18250|   Monica Federle|  Corporate|        Argenteuil|     Ile-de-France|        France|       null|    EU|     Central| TEC-MA-10001335|     Technology|    Machines|Epson Printer, Du...|2456.619|      11|    0.15|       442.49|   664.719|           Low|\n",
            "| 48781|   SF-2011-6380| 15-2-2011| 16-2-2011|   First Class|    PA-9060|   Pete Armstrong|Home Office|      Johannesburg|           Gauteng|  South Africa|       null|Africa|      Africa|OFF-SME-10000746|Office Supplies|     Storage|Smead Lockers, In...|  2784.6|      14|       0|       422.25|    779.52|      Critical|\n",
            "+------+---------------+----------+----------+--------------+-----------+-----------------+-----------+------------------+------------------+--------------+-----------+------+------------+----------------+---------------+------------+--------------------+--------+--------+--------+-------------+----------+--------------+\n",
            "only showing top 20 rows\n",
            "\n"
          ]
        }
      ]
    },
    {
      "cell_type": "code",
      "source": [
        "df.filter(\"Quantity>10\").select(\"Segment\", \"Profit\").show()"
      ],
      "metadata": {
        "colab": {
          "base_uri": "https://localhost:8080/"
        },
        "id": "Vx7lfyaYmlY2",
        "outputId": "1a147155-ceee-48f7-84f6-7d5c58ab77fa"
      },
      "execution_count": 67,
      "outputs": [
        {
          "output_type": "stream",
          "name": "stdout",
          "text": [
            "+-----------+----------+\n",
            "|    Segment|    Profit|\n",
            "+-----------+----------+\n",
            "|   Consumer|-1862.3124|\n",
            "|   Consumer|   1036.08|\n",
            "|  Corporate|   3979.08|\n",
            "|   Consumer|  135.4068|\n",
            "|   Consumer|   1697.67|\n",
            "|  Corporate|   2097.03|\n",
            "|   Consumer|    868.12|\n",
            "|   Consumer|  327.5922|\n",
            "|   Consumer|    656.37|\n",
            "|   Consumer|    121.94|\n",
            "|   Consumer|    63.546|\n",
            "|  Corporate|   2597.28|\n",
            "|Home Office| -2211.165|\n",
            "|  Corporate|   1868.13|\n",
            "|   Consumer|   4946.37|\n",
            "|Home Office|    988.12|\n",
            "|  Corporate|    523.08|\n",
            "|  Corporate|    38.948|\n",
            "|  Corporate|   664.719|\n",
            "|Home Office|    779.52|\n",
            "+-----------+----------+\n",
            "only showing top 20 rows\n",
            "\n"
          ]
        }
      ]
    },
    {
      "cell_type": "code",
      "source": [
        "df.filter(df[\"Quantity\"]<=30).show()"
      ],
      "metadata": {
        "colab": {
          "base_uri": "https://localhost:8080/"
        },
        "id": "4INBMGQ8m2Cp",
        "outputId": "44d0d14b-4be1-46e4-93c3-6e146caf4c6b"
      },
      "execution_count": 68,
      "outputs": [
        {
          "output_type": "stream",
          "name": "stdout",
          "text": [
            "+------+---------------+----------+----------+--------------+-----------+----------------+-----------+-------------+---------------+-------------+-----------+------+------------+----------------+---------------+------------+--------------------+--------+--------+--------+-------------+----------+--------------+\n",
            "|ROW ID|       Order ID|Order Date| Ship Date|     Ship Mode|Customer ID|   Customer Name|    Segment|         City|          State|      Country|Postal Code|Market|      Region|      Product ID|       Category|Sub-Category|        Product Name|   Sales|Quantity|Discount|Shipping Cost|    Profit|Order Priority|\n",
            "+------+---------------+----------+----------+--------------+-----------+----------------+-----------+-------------+---------------+-------------+-----------+------+------------+----------------+---------------+------------+--------------------+--------+--------+--------+-------------+----------+--------------+\n",
            "| 26341| CA-2012-124891| 31-7-2012| 31-7-2012|      Same Day|   RH-19495|     Rick Hansen|   Consumer|New York City|       New York|United States|      10024|    US|        East| TEC-AC-10003033|     Technology| Accessories|Plantronics CS510...| 2309.65|       7|       0|       933.57|  762.1845|      Critical|\n",
            "| 26341|  IN-2013-77878|  5-2-2013|  7-2-2013|  Second Class|   JR-16210|   Justin Ritter|  Corporate|   Wollongong|New South Wales|    Australia|       null|  APAC|     Oceania| FUR-CH-10003950|      Furniture|      Chairs|Novimex Executive...|3709.395|       9|     0.1|       923.63|  -288.765|      Critical|\n",
            "| 25330|  IN-2013-71249|17-10-2013|18-10-2013|   First Class|   CR-12730|    Craig Reiter|   Consumer|     Brisbane|     Queensland|    Australia|       null|  APAC|     Oceania| TEC-PH-10004664|     Technology|      Phones|Nokia Smart Phone...|5175.171|       9|     0.1|       915.49|   919.971|        Medium|\n",
            "| 13524|ES-2013-1579342| 28-1-2013| 30-1-2013|   First Class|   KM-16375|Katherine Murray|Home Office|       Berlin|         Berlin|      Germany|       null|    EU|     Central| TEC-PH-10004583|     Technology|      Phones|Motorola Smart Ph...| 2892.51|       5|     0.1|       910.16|    -96.54|        Medium|\n",
            "| 47221|   SG-2013-4320| 5-11-2013| 6-11-2013|      Same Day|    RH-9495|     Rick Hansen|   Consumer|        Dakar|          Dakar|      Senegal|       null|Africa|      Africa|TEC-SHA-10000501|     Technology|     Copiers|Sharp Wireless Fa...| 2832.96|       8|       0|       903.04|    311.52|      Critical|\n",
            "| 22732|  IN-2013-42360| 28-6-2013|  1-7-2013|  Second Class|   JM-15655|     Jim Mitchum|  Corporate|       Sydney|New South Wales|    Australia|       null|  APAC|     Oceania| TEC-PH-10000030|     Technology|      Phones|Samsung Smart Pho...|2862.675|       5|     0.1|       897.35|   763.275|      Critical|\n",
            "| 30570|  IN-2011-81826| 7-11-2011| 9-11-2011|   First Class|   TS-21340|   Toby Swindell|   Consumer|      Porirua|     Wellington|  New Zealand|       null|  APAC|     Oceania| FUR-CH-10004050|      Furniture|      Chairs|Novimex Executive...| 1822.08|       4|       0|       894.77|    564.84|      Critical|\n",
            "| 31192|  IN-2012-86369| 14-4-2012| 18-4-2012|Standard Class|   MB-18085|      Mick Brown|   Consumer|     Hamilton|        Waikato|  New Zealand|       null|  APAC|     Oceania| FUR-TA-10002958|      Furniture|      Tables|Chromcraft Confer...| 5244.84|       6|       0|       878.38|    996.48|          High|\n",
            "| 40155| CA-2014-135909|14-10-2014|21-10-2014|Standard Class|   JW-15220|       Jane Waco|  Corporate|   Sacramento|     California|United States|      95823|    US|        West| OFF-BI-10003527|Office Supplies|     Binders|Fellowes PB500 El...| 5083.96|       5|     0.2|       867.69|  1906.485|           Low|\n",
            "| 40936| CA-2012-116638| 28-1-2012| 31-1-2012|  Second Class|   JH-15985|     Joseph Holt|   Consumer|      Concord| North Carolina|United States|      28027|    US|       South| FUR-TA-10000198|      Furniture|      Tables|Chromcraft Bull-N...|4297.644|      13|     0.4|       865.74|-1862.3124|      Critical|\n",
            "| 34577| CA-2011-102988|  5-4-2011|  9-4-2011|  Second Class|   GM-14695|    Greg Maxwell|  Corporate|   Alexandria|       Virginia|United States|      22304|    US|       South| OFF-SU-10002881|Office Supplies|    Supplies|Martin Yale Chadl...| 4164.05|       5|       0|       846.54|    83.281|          High|\n",
            "| 28879|  ID-2012-28402| 19-4-2012| 22-4-2012|   First Class|   AJ-10780|  Anthony Jacobs|  Corporate|        Kabul|          Kabul|  Afghanistan|       null|  APAC|Central Asia| FUR-TA-10001889|      Furniture|      Tables|Bevis Conference ...| 4626.15|       5|       0|       835.57|    647.55|          High|\n",
            "| 45794|   SA-2011-1830|27-12-2011|29-12-2011|  Second Class|    MM-7260| Magdelene Morse|   Consumer|        Jizan|          Jizan| Saudi Arabia|       null|  EMEA|        EMEA|TEC-CIS-10001717|     Technology|      Phones|Cisco Smart Phone...| 2616.96|       4|       0|       832.41|    1151.4|      Critical|\n",
            "|  4132| MX-2012-130015|13-11-2012|13-11-2012|      Same Day|   VF-21715|  Vicky Freymann|Home Office|       Toledo|         Parana|       Brazil|       null| LATAM|       South| FUR-CH-10002033|      Furniture|      Chairs|Harbour Creations...|  2221.8|       7|       0|       810.25|    622.02|      Critical|\n",
            "| 27704|  IN-2013-73951|  6-6-2013|  8-6-2013|  Second Class|   PF-19120|    Peter Fuller|   Consumer|   Mudanjiang|   Heilongjiang|        China|       null|  APAC|  North Asia| OFF-AP-10003500|Office Supplies|  Appliances|KitchenAid Microw...| 3701.52|      12|       0|       804.54|   1036.08|      Critical|\n",
            "| 13779|ES-2014-5099955| 31-7-2014|  3-8-2014|  Second Class|   BP-11185|    Ben Peterman|  Corporate|        Paris|  Ile-de-France|       France|       null|    EU|     Central| OFF-AP-10000423|Office Supplies|  Appliances|Breville Refriger...|1869.588|       4|     0.1|       801.66|   186.948|      Critical|\n",
            "| 36178| CA-2014-143567| 3-11-2014| 6-11-2014|  Second Class|   TB-21175|   Thomas Boland|  Corporate|    Henderson|       Kentucky|United States|      42420|    US|       South| TEC-AC-10004145|     Technology| Accessories|Logitech diNovo E...| 2249.91|       9|       0|        780.7|  517.4793|      Critical|\n",
            "| 12069|ES-2014-1651774|  8-9-2014| 14-9-2014|Standard Class|   PJ-18835|   Patrick Jones|  Corporate|        Prato|        Tuscany|        Italy|       null|    EU|       South| OFF-AP-10004512|Office Supplies|  Appliances|   Hoover Stove, Red| 7958.58|      14|       0|       778.32|   3979.08|           Low|\n",
            "| 22096|  IN-2014-11763| 31-1-2014|  1-2-2014|   First Class|   JS-15685|        Jim Sink|  Corporate|   Townsville|     Queensland|    Australia|       null|  APAC|     Oceania| TEC-CO-10000865|     Technology|     Copiers|Brother Fax Machi...|2565.594|       9|     0.1|       766.93|    28.404|      Critical|\n",
            "| 49463|   TZ-2014-8190| 5-12-2014| 7-12-2014|  Second Class|    RH-9555| Ritsa Hightower|   Consumer|       Uvinza|         Kigoma|     Tanzania|       null|Africa|      Africa|OFF-KIT-10004058|Office Supplies|  Appliances|KitchenAid Stove,...| 3409.74|       6|       0|       763.38|    818.28|          High|\n",
            "+------+---------------+----------+----------+--------------+-----------+----------------+-----------+-------------+---------------+-------------+-----------+------+------------+----------------+---------------+------------+--------------------+--------+--------+--------+-------------+----------+--------------+\n",
            "only showing top 20 rows\n",
            "\n"
          ]
        }
      ]
    },
    {
      "cell_type": "code",
      "source": [
        "# Take Multiple Condition (And Operation)\n",
        "df.filter((df[\"Profit\"] >=1000) &\n",
        "          (df[\"Quantity\"] >=5)).show()"
      ],
      "metadata": {
        "colab": {
          "base_uri": "https://localhost:8080/"
        },
        "id": "vipbFZ_ZnIsR",
        "outputId": "8a4dcacb-e613-4a60-d298-be41e504e2ef"
      },
      "execution_count": 73,
      "outputs": [
        {
          "output_type": "stream",
          "name": "stdout",
          "text": [
            "+------+---------------+----------+----------+--------------+-----------+--------------------+-----------+------------------+-----------------+--------------------+-----------+------+------------+----------------+---------------+------------+--------------------+--------+--------+--------+-------------+---------+--------------+\n",
            "|ROW ID|       Order ID|Order Date| Ship Date|     Ship Mode|Customer ID|       Customer Name|    Segment|              City|            State|             Country|Postal Code|Market|      Region|      Product ID|       Category|Sub-Category|        Product Name|   Sales|Quantity|Discount|Shipping Cost|   Profit|Order Priority|\n",
            "+------+---------------+----------+----------+--------------+-----------+--------------------+-----------+------------------+-----------------+--------------------+-----------+------+------------+----------------+---------------+------------+--------------------+--------+--------+--------+-------------+---------+--------------+\n",
            "| 40155| CA-2014-135909|14-10-2014|21-10-2014|Standard Class|   JW-15220|           Jane Waco|  Corporate|        Sacramento|       California|       United States|      95823|    US|        West| OFF-BI-10003527|Office Supplies|     Binders|Fellowes PB500 El...| 5083.96|       5|     0.2|       867.69| 1906.485|           Low|\n",
            "| 27704|  IN-2013-73951|  6-6-2013|  8-6-2013|  Second Class|   PF-19120|        Peter Fuller|   Consumer|        Mudanjiang|     Heilongjiang|               China|       null|  APAC|  North Asia| OFF-AP-10003500|Office Supplies|  Appliances|KitchenAid Microw...| 3701.52|      12|       0|       804.54|  1036.08|      Critical|\n",
            "| 12069|ES-2014-1651774|  8-9-2014| 14-9-2014|Standard Class|   PJ-18835|       Patrick Jones|  Corporate|             Prato|          Tuscany|               Italy|       null|    EU|       South| OFF-AP-10004512|Office Supplies|  Appliances|   Hoover Stove, Red| 7958.58|      14|       0|       778.32|  3979.08|           Low|\n",
            "| 13528|ES-2013-2860574| 27-2-2013|  1-3-2013|  Second Class|   LB-16795|      Laurel Beltran|Home Office|         Edinburgh|         Scotland|      United Kingdom|       null|    EU|       North| OFF-AP-10003590|Office Supplies|  Appliances|KitchenAid Refrig...|  5273.7|      10|       0|       730.91|   1898.4|          High|\n",
            "| 11645|ES-2011-4699764| 14-3-2011| 17-3-2011|  Second Class|   EB-14110|      Eugene Barchas|   Consumer|           Leipzig|           Saxony|             Germany|       null|    EU|     Central| OFF-AP-10004512|Office Supplies|  Appliances|   Hoover Stove, Red|3069.738|       6|     0.1|       725.34| 1364.238|      Critical|\n",
            "| 47905|   CG-2011-8610| 14-9-2011| 15-9-2011|   First Class|      AH-30|       Aaron Hawkins|  Corporate|            Kamina|          Katanga|Democratic Republ...|       null|Africa|      Africa|TEC-APP-10000308|     Technology|      Phones|Apple Smart Phone...| 3817.26|       6|       0|       678.15|  1068.66|          High|\n",
            "| 15380|ES-2014-2637201| 14-1-2014| 18-1-2014|Standard Class|   PO-18865|   Patrick O'Donnell|   Consumer|  Stockton-on-Tees|          England|      United Kingdom|       null|    EU|       North| TEC-CO-10000013|     Technology|     Copiers|Brother Fax Machi...| 4141.02|      13|       0|       668.96|  1697.67|          High|\n",
            "| 25795|  IN-2014-76016| 26-9-2014| 28-9-2014|  Second Class|   VG-21805|         Vivek Grady|  Corporate|Thiruvananthapuram|           Kerala|               India|       null|  APAC|Central Asia| FUR-BO-10004852|      Furniture|   Bookcases|Sauder Classic Bo...| 5667.87|      13|       0|       658.35|  2097.03|        Medium|\n",
            "| 35395| CA-2011-116904| 23-9-2011| 28-9-2011|Standard Class|   SC-20095|        Sanjit Chand|   Consumer|       Minneapolis|        Minnesota|       United States|      55407|    US|     Central| OFF-BI-10001120|Office Supplies|     Binders|Ibico EPK-21 Elec...| 9449.95|       5|       0|       655.61|4630.4755|        Medium|\n",
            "| 32941| CA-2012-111829| 19-3-2012| 20-3-2012|   First Class|   FH-14365|        Fred Hopkins|  Corporate|           Seattle|       Washington|       United States|      98115|    US|        West| TEC-CO-10001766|     Technology|     Copiers|  Canon PC940 Copier| 3149.93|       7|       0|       617.92|1480.4671|          High|\n",
            "| 23499|  IN-2014-61792|  5-8-2014|  6-8-2014|   First Class|   MW-18220|        Mitch Webber|   Consumer|         Geraldton|Western Australia|           Australia|       null|  APAC|     Oceania| OFF-AP-10002244|Office Supplies|  Appliances|Breville Refriger...|4191.507|       9|     0.1|       614.34| 1164.267|          High|\n",
            "| 16653|IT-2014-4540740| 7-12-2014| 8-12-2014|   First Class|   DK-13090|           Dave Kipp|   Consumer|           Seville|        Andalus�a|               Spain|       null|    EU|       South| FUR-BO-10004999|      Furniture|   Bookcases|Safco Classic Boo...| 2188.05|       5|       0|       593.91|  1050.15|          High|\n",
            "| 21191|  IN-2013-40050|  7-6-2013|  9-6-2013|   First Class|   AS-10225|   Alan Schoenberger|  Corporate|             Jinan|         Shandong|               China|       null|  APAC|  North Asia| FUR-CH-10003232|      Furniture|      Chairs|Harbour Creations...| 3298.26|       7|       0|       589.36|  1055.25|          High|\n",
            "| 49085|   CG-2013-6110| 29-3-2013| 31-3-2013|  Second Class|    BW-1065|       Barry Weirich|   Consumer|           Kananga| Kasai-Occidental|Democratic Republ...|       null|Africa|      Africa|FUR-HAR-10002873|      Furniture|      Chairs|Harbour Creations...|  3808.8|       8|       0|       588.13|  1523.52|          High|\n",
            "| 31806| CA-2012-145352| 16-3-2012| 22-3-2012|Standard Class|   CM-12385|Christopher Martinez|   Consumer|           Atlanta|          Georgia|       United States|      30318|    US|       South| OFF-BI-10003527|Office Supplies|     Binders|Fellowes PB500 El...| 6354.95|       5|       0|       581.12| 3177.475|        Medium|\n",
            "| 24443|  IN-2011-62506| 9-11-2011|11-11-2011|  Second Class|   SZ-20035|          Sam Zeldin|Home Office|          Nanchong|          Sichuan|               China|       null|  APAC|  North Asia| TEC-CO-10002526|     Technology|     Copiers|Sharp Wireless Fa...| 3200.04|       9|       0|       576.71|  1183.95|        Medium|\n",
            "| 50788|   MO-2014-2000|28-10-2014|30-10-2014|  Second Class|    DP-3105|        Dave Poirier|  Corporate|            Meknes| Mekn�s-Tafilalet|             Morocco|       null|Africa|      Africa|TEC-CAN-10001437|     Technology|     Copiers|Canon Wireless Fa...| 5301.24|      14|       0|       568.45|  2597.28|        Medium|\n",
            "| 25026|  IN-2012-64774| 13-6-2012| 13-6-2012|      Same Day|   RP-19270|        Rachel Payne|  Corporate|            Sydney|  New South Wales|           Australia|       null|  APAC|     Oceania| TEC-CO-10001954|     Technology|     Copiers|Brother Wireless ...|3068.361|       9|     0.1|       555.77| 1124.901|          High|\n",
            "| 27962|  IN-2013-48765|28-10-2013|31-10-2013|   First Class|   BK-11260|      Berenike Kampe|   Consumer|             Tongi|            Dhaka|          Bangladesh|       null|  APAC|Central Asia| FUR-BO-10003282|      Furniture|   Bookcases|Ikea Classic Book...| 3728.43|       9|       0|       553.31|  1192.86|        Medium|\n",
            "| 46366|   CA-2014-6550|23-12-2014|25-12-2014|  Second Class|   SV-10815|          Stuart Van|  Corporate|          Montr�al|           Quebec|              Canada|       null|Canada|      Canada|TEC-MOT-10000554|     Technology|      Phones|Motorola Smart Ph...| 3863.88|       6|       0|       546.56|  1159.02|      Critical|\n",
            "+------+---------------+----------+----------+--------------+-----------+--------------------+-----------+------------------+-----------------+--------------------+-----------+------+------------+----------------+---------------+------------+--------------------+--------+--------+--------+-------------+---------+--------------+\n",
            "only showing top 20 rows\n",
            "\n"
          ]
        }
      ]
    },
    {
      "cell_type": "code",
      "source": [
        "# Not Operation\n",
        "df.filter(~(df[\"Quantity\"]<=5)).show()"
      ],
      "metadata": {
        "colab": {
          "base_uri": "https://localhost:8080/"
        },
        "id": "NtM37FO0nV45",
        "outputId": "e2ed7b5d-6671-4290-f3a6-bfd0e66ca950"
      },
      "execution_count": 76,
      "outputs": [
        {
          "output_type": "stream",
          "name": "stdout",
          "text": [
            "+------+---------------+----------+----------+--------------+-----------+-----------------+-----------+-------------+---------------+--------------+-----------+------+----------+----------------+---------------+------------+--------------------+--------+--------+--------+-------------+----------+--------------+\n",
            "|ROW ID|       Order ID|Order Date| Ship Date|     Ship Mode|Customer ID|    Customer Name|    Segment|         City|          State|       Country|Postal Code|Market|    Region|      Product ID|       Category|Sub-Category|        Product Name|   Sales|Quantity|Discount|Shipping Cost|    Profit|Order Priority|\n",
            "+------+---------------+----------+----------+--------------+-----------+-----------------+-----------+-------------+---------------+--------------+-----------+------+----------+----------------+---------------+------------+--------------------+--------+--------+--------+-------------+----------+--------------+\n",
            "| 26341| CA-2012-124891| 31-7-2012| 31-7-2012|      Same Day|   RH-19495|      Rick Hansen|   Consumer|New York City|       New York| United States|      10024|    US|      East| TEC-AC-10003033|     Technology| Accessories|Plantronics CS510...| 2309.65|       7|       0|       933.57|  762.1845|      Critical|\n",
            "| 26341|  IN-2013-77878|  5-2-2013|  7-2-2013|  Second Class|   JR-16210|    Justin Ritter|  Corporate|   Wollongong|New South Wales|     Australia|       null|  APAC|   Oceania| FUR-CH-10003950|      Furniture|      Chairs|Novimex Executive...|3709.395|       9|     0.1|       923.63|  -288.765|      Critical|\n",
            "| 25330|  IN-2013-71249|17-10-2013|18-10-2013|   First Class|   CR-12730|     Craig Reiter|   Consumer|     Brisbane|     Queensland|     Australia|       null|  APAC|   Oceania| TEC-PH-10004664|     Technology|      Phones|Nokia Smart Phone...|5175.171|       9|     0.1|       915.49|   919.971|        Medium|\n",
            "| 47221|   SG-2013-4320| 5-11-2013| 6-11-2013|      Same Day|    RH-9495|      Rick Hansen|   Consumer|        Dakar|          Dakar|       Senegal|       null|Africa|    Africa|TEC-SHA-10000501|     Technology|     Copiers|Sharp Wireless Fa...| 2832.96|       8|       0|       903.04|    311.52|      Critical|\n",
            "| 31192|  IN-2012-86369| 14-4-2012| 18-4-2012|Standard Class|   MB-18085|       Mick Brown|   Consumer|     Hamilton|        Waikato|   New Zealand|       null|  APAC|   Oceania| FUR-TA-10002958|      Furniture|      Tables|Chromcraft Confer...| 5244.84|       6|       0|       878.38|    996.48|          High|\n",
            "| 40936| CA-2012-116638| 28-1-2012| 31-1-2012|  Second Class|   JH-15985|      Joseph Holt|   Consumer|      Concord| North Carolina| United States|      28027|    US|     South| FUR-TA-10000198|      Furniture|      Tables|Chromcraft Bull-N...|4297.644|      13|     0.4|       865.74|-1862.3124|      Critical|\n",
            "|  4132| MX-2012-130015|13-11-2012|13-11-2012|      Same Day|   VF-21715|   Vicky Freymann|Home Office|       Toledo|         Parana|        Brazil|       null| LATAM|     South| FUR-CH-10002033|      Furniture|      Chairs|Harbour Creations...|  2221.8|       7|       0|       810.25|    622.02|      Critical|\n",
            "| 27704|  IN-2013-73951|  6-6-2013|  8-6-2013|  Second Class|   PF-19120|     Peter Fuller|   Consumer|   Mudanjiang|   Heilongjiang|         China|       null|  APAC|North Asia| OFF-AP-10003500|Office Supplies|  Appliances|KitchenAid Microw...| 3701.52|      12|       0|       804.54|   1036.08|      Critical|\n",
            "| 36178| CA-2014-143567| 3-11-2014| 6-11-2014|  Second Class|   TB-21175|    Thomas Boland|  Corporate|    Henderson|       Kentucky| United States|      42420|    US|     South| TEC-AC-10004145|     Technology| Accessories|Logitech diNovo E...| 2249.91|       9|       0|        780.7|  517.4793|      Critical|\n",
            "| 12069|ES-2014-1651774|  8-9-2014| 14-9-2014|Standard Class|   PJ-18835|    Patrick Jones|  Corporate|        Prato|        Tuscany|         Italy|       null|    EU|     South| OFF-AP-10004512|Office Supplies|  Appliances|   Hoover Stove, Red| 7958.58|      14|       0|       778.32|   3979.08|           Low|\n",
            "| 22096|  IN-2014-11763| 31-1-2014|  1-2-2014|   First Class|   JS-15685|         Jim Sink|  Corporate|   Townsville|     Queensland|     Australia|       null|  APAC|   Oceania| TEC-CO-10000865|     Technology|     Copiers|Brother Fax Machi...|2565.594|       9|     0.1|       766.93|    28.404|      Critical|\n",
            "| 49463|   TZ-2014-8190| 5-12-2014| 7-12-2014|  Second Class|    RH-9555|  Ritsa Hightower|   Consumer|       Uvinza|         Kigoma|      Tanzania|       null|Africa|    Africa|OFF-KIT-10004058|Office Supplies|  Appliances|KitchenAid Stove,...| 3409.74|       6|       0|       763.38|    818.28|          High|\n",
            "| 31784| CA-2011-154627|29-10-2011|31-10-2011|   First Class|   SA-20830|     Sue Ann Reed|   Consumer|      Chicago|       Illinois| United States|      60610|    US|   Central| TEC-PH-10001363|     Technology|      Phones|     Apple iPhone 5S|2735.952|       6|     0.2|       752.51|   341.994|          High|\n",
            "| 21586|  IN-2011-44803|  2-5-2011|  3-5-2011|   First Class|   JK-15325|Jason Klamczynski|  Corporate|       Suzhou|          Anhui|         China|       null|  APAC|North Asia| FUR-CH-10000027|      Furniture|      Chairs|SAFCO Executive L...|    2754|       6|       0|       752.47|    358.02|      Critical|\n",
            "| 13528|ES-2013-2860574| 27-2-2013|  1-3-2013|  Second Class|   LB-16795|   Laurel Beltran|Home Office|    Edinburgh|       Scotland|United Kingdom|       null|    EU|     North| OFF-AP-10003590|Office Supplies|  Appliances|KitchenAid Refrig...|  5273.7|      10|       0|       730.91|    1898.4|          High|\n",
            "|  3484| MX-2014-165309|  5-9-2014|  8-9-2014|   First Class|   VD-21670|Valerie Dominguez|   Consumer|    Soyapango|   San Salvador|   El Salvador|       null| LATAM|   Central| FUR-TA-10002827|      Furniture|      Tables|Hon Computer Tabl...|2106.496|       8|     0.2|       728.39|   526.496|      Critical|\n",
            "| 11645|ES-2011-4699764| 14-3-2011| 17-3-2011|  Second Class|   EB-14110|   Eugene Barchas|   Consumer|      Leipzig|         Saxony|       Germany|       null|    EU|   Central| OFF-AP-10004512|Office Supplies|  Appliances|   Hoover Stove, Red|3069.738|       6|     0.1|       725.34|  1364.238|      Critical|\n",
            "| 37311| CA-2013-159016| 11-3-2013| 12-3-2013|   First Class|   KF-16285|   Karen Ferguson|Home Office|  Los Angeles|     California| United States|      90008|    US|      West| TEC-PH-10002885|     Technology|      Phones|      Apple iPhone 5|4158.912|       8|     0.2|       714.66|  363.9048|          High|\n",
            "| 10648|ES-2012-5870268| 17-7-2012| 19-7-2012|   First Class|   BS-11365|     Bill Shonely|  Corporate| Saint-Brieuc|       Brittany|        France|       null|    EU|   Central| TEC-MA-10000161|     Technology|    Machines|Okidata Inkjet, W...|2402.865|       9|    0.15|       699.55|   763.155|      Critical|\n",
            "| 32543| CA-2011-168494|12-12-2011|14-12-2011|  Second Class|   NP-18700|       Nora Preis|   Consumer|       Fresno|     California| United States|      93727|    US|      West| FUR-TA-10003473|      Furniture|      Tables|Bretford Rectangu...|3610.848|      12|     0.2|       683.12|  135.4068|          High|\n",
            "+------+---------------+----------+----------+--------------+-----------+-----------------+-----------+-------------+---------------+--------------+-----------+------+----------+----------------+---------------+------------+--------------------+--------+--------+--------+-------------+----------+--------------+\n",
            "only showing top 20 rows\n",
            "\n"
          ]
        }
      ]
    },
    {
      "cell_type": "code",
      "source": [
        "##GroupBy"
      ],
      "metadata": {
        "id": "-Qae3g-UnmQI"
      },
      "execution_count": 77,
      "outputs": []
    },
    {
      "cell_type": "code",
      "source": [
        "# Grouped to find the maximum salary\n",
        "df.groupBy(\"Country\").sum().show()"
      ],
      "metadata": {
        "colab": {
          "base_uri": "https://localhost:8080/"
        },
        "id": "kMm1qfFq2xB0",
        "outputId": "3830c7ec-f9c0-4e85-d483-fa05001d1cc9"
      },
      "execution_count": 79,
      "outputs": [
        {
          "output_type": "stream",
          "name": "stdout",
          "text": [
            "+-----------+-----------+----------------+------------------+-------------------+\n",
            "|    Country|sum(ROW ID)|sum(Postal Code)|sum(Shipping Cost)|        sum(Profit)|\n",
            "+-----------+-----------+----------------+------------------+-------------------+\n",
            "|       Chad|      97017|            null|            297.94|               90.0|\n",
            "|     Russia|   17948482|            null|           9632.15| 22536.449999999986|\n",
            "|   Paraguay|      47920|            null|             431.8|          415.22752|\n",
            "|      Yemen|    1391386|            null|            286.63|-3706.4579999999996|\n",
            "|    Senegal|    5145733|            null|3451.3700000000003|  7511.160000000003|\n",
            "|     Sweden|    3136818|            null| 3238.510000000002|-17519.366999999987|\n",
            "|Philippines|   17110015|            null|17882.509999999973|-16128.224999999991|\n",
            "|    Eritrea|      99531|            null|              8.55|               76.2|\n",
            "|   Djibouti|     565254|            null|             304.4|  804.0899999999999|\n",
            "|   Malaysia|    4478350|            null| 7235.569999999996|  16329.96000000001|\n",
            "|  Singapore|    3424741|            null| 4352.889999999999|            8853.06|\n",
            "|     Turkey|   63918257|            null|11664.160000000024| -98447.23199999993|\n",
            "|       Iraq|   18039825|            null| 7143.799999999998| 18243.209999999985|\n",
            "|    Germany|   31355656|            null| 63965.17999999994| 107322.82049999974|\n",
            "|Afghanistan|    1446606|            null| 2300.229999999999|  5460.300000000001|\n",
            "|   Cambodia|    1151744|            null|           1821.74|  4476.539999999999|\n",
            "|     Rwanda|    1735645|            null| 515.2299999999999| 1336.4400000000005|\n",
            "|     Jordan|    1980962|            null| 669.2199999999998|             1823.7|\n",
            "|      Sudan|    4142434|            null|1544.6799999999994|             3619.5|\n",
            "|     France|   43200320|            null| 95387.81000000001| 109029.00300000014|\n",
            "+-----------+-----------+----------------+------------------+-------------------+\n",
            "only showing top 20 rows\n",
            "\n"
          ]
        }
      ]
    },
    {
      "cell_type": "code",
      "source": [
        "# Groupby Departments which gives maximum salary\n",
        "df.groupBy(\"Profit\").sum().show()"
      ],
      "metadata": {
        "colab": {
          "base_uri": "https://localhost:8080/"
        },
        "id": "KCpnSrVz23SN",
        "outputId": "37ba84ae-131e-4c13-99cf-0a8665858a91"
      },
      "execution_count": 86,
      "outputs": [
        {
          "output_type": "stream",
          "name": "stdout",
          "text": [
            "+----------+-----------+----------------+------------------+-----------+\n",
            "|    Profit|sum(ROW ID)|sum(Postal Code)|sum(Shipping Cost)|sum(Profit)|\n",
            "+----------+-----------+----------------+------------------+-----------+\n",
            "|   368.256|      26473|            null|            327.81|    368.256|\n",
            "|   64.0728|      34815|           28314|            203.22|    64.0728|\n",
            "|  181.6512|      23251|            null|            184.98|   181.6512|\n",
            "|   28.7679|      34603|           78041|             73.38|    28.7679|\n",
            "|    9.8352|      39490|           27707|             43.32|     9.8352|\n",
            "|  -42.8967|      35215|           85023|             30.45|   -42.8967|\n",
            "|   66.3264|      35328|           98042|             23.16|    66.3264|\n",
            "|  -58.1742|      22875|            null|             21.56|   -58.1742|\n",
            "|-111.83796|       5376|            null|              14.9| -111.83796|\n",
            "|    178.92|       6776|            null|            530.49|     178.92|\n",
            "|   -63.756|       8348|            null|            217.03|    -63.756|\n",
            "|    364.68|      19853|            null|            204.29|     364.68|\n",
            "|    791.46|      49657|            null|            165.46|     791.46|\n",
            "|    125.64|       4421|            null|            125.38|     125.64|\n",
            "|  -166.152|       1368|            null|            138.52|   -332.304|\n",
            "|    239.49|      22281|            null|            186.81|     478.98|\n",
            "|     85.86|      93908|            null|            221.07|      429.3|\n",
            "|      69.8|       7047|            null|            106.47|      139.6|\n",
            "|    133.65|      49473|            null|             128.6|      267.3|\n",
            "|   46.7955|      33951|            null|            101.56|     93.591|\n",
            "+----------+-----------+----------------+------------------+-----------+\n",
            "only showing top 20 rows\n",
            "\n"
          ]
        }
      ]
    },
    {
      "cell_type": "code",
      "source": [
        "\n",
        "df.groupBy(\"Segment\").count().show()"
      ],
      "metadata": {
        "colab": {
          "base_uri": "https://localhost:8080/"
        },
        "id": "U2b7thRD9WhP",
        "outputId": "4b46a208-fd79-4c94-feff-853dbba7692a"
      },
      "execution_count": 87,
      "outputs": [
        {
          "output_type": "stream",
          "name": "stdout",
          "text": [
            "+-----------+-----+\n",
            "|    Segment|count|\n",
            "+-----------+-----+\n",
            "|   Consumer|26518|\n",
            "|Home Office| 9343|\n",
            "|  Corporate|15429|\n",
            "+-----------+-----+\n",
            "\n"
          ]
        }
      ]
    },
    {
      "cell_type": "code",
      "source": [
        "df.groupBy(\"Sales\").max().show()"
      ],
      "metadata": {
        "colab": {
          "base_uri": "https://localhost:8080/"
        },
        "id": "v6l_4-Dl9hOL",
        "outputId": "2661ee27-cf88-49ef-892a-25c057855713"
      },
      "execution_count": 88,
      "outputs": [
        {
          "output_type": "stream",
          "name": "stdout",
          "text": [
            "+---------+-----------+----------------+------------------+-----------+\n",
            "|    Sales|max(ROW ID)|max(Postal Code)|max(Shipping Cost)|max(Profit)|\n",
            "+---------+-----------+----------------+------------------+-----------+\n",
            "|  1745.34|      49065|            null|            616.27|     226.86|\n",
            "|     1512|      31033|            null|            356.84|     498.96|\n",
            "|  1699.83|      11836|            null|            298.77|      84.96|\n",
            "|    723.3|      28702|            null|            286.01|      332.7|\n",
            "|  2583.18|      30572|            null|            165.92|     568.26|\n",
            "| 2676.672|      40189|           92037|            141.67|   267.6672|\n",
            "|  767.214|      37428|           10011|            132.91|   161.9674|\n",
            "|  447.552|      19685|            null|            122.68|    -10.128|\n",
            "|    406.6|      36567|           94110|            106.72|    113.848|\n",
            "|758.85924|       9635|            null|            106.69|   21.27924|\n",
            "|  1285.05|      20595|            null|            100.48|     552.24|\n",
            "|   525.51|      24524|            null|             97.31|     262.71|\n",
            "|   961.48|      31585|           33319|             89.23|  -204.3145|\n",
            "|   880.32|      45753|            null|             81.21|     387.12|\n",
            "| 730.6173|      22957|            null|             79.95|   102.0573|\n",
            "|  1184.94|      21253|            null|             77.19|     130.32|\n",
            "|  535.734|      18708|            null|              74.8|     41.634|\n",
            "|   219.84|      49262|           90045|             74.66|   107.7216|\n",
            "|   249.99|      28798|            null|             74.48|     104.91|\n",
            "|    429.6|      40412|           19140|             72.19|      176.0|\n",
            "+---------+-----------+----------------+------------------+-----------+\n",
            "only showing top 20 rows\n",
            "\n"
          ]
        }
      ]
    },
    {
      "cell_type": "code",
      "source": [
        "df.agg({\"Profit\":\"sum\"}).show()"
      ],
      "metadata": {
        "colab": {
          "base_uri": "https://localhost:8080/"
        },
        "id": "r-5gcjV2_Gx9",
        "outputId": "574391e4-6120-4d06-97f3-3a54efa45364"
      },
      "execution_count": 89,
      "outputs": [
        {
          "output_type": "stream",
          "name": "stdout",
          "text": [
            "+------------------+\n",
            "|       sum(Profit)|\n",
            "+------------------+\n",
            "|1465940.8137800025|\n",
            "+------------------+\n",
            "\n"
          ]
        }
      ]
    },
    {
      "cell_type": "code",
      "source": [
        "dft = spark.read.csv(\"/content/test1.csv\", header=True, inferSchema=True)\n",
        "dft.show()"
      ],
      "metadata": {
        "colab": {
          "base_uri": "https://localhost:8080/"
        },
        "id": "guTtkGSV_PBq",
        "outputId": "e5ae9307-5623-49b6-bb4c-2d0c1f9ee6d6"
      },
      "execution_count": 90,
      "outputs": [
        {
          "output_type": "stream",
          "name": "stdout",
          "text": [
            "+---------+---+----------+------+\n",
            "|     Name|age|Experience|Salary|\n",
            "+---------+---+----------+------+\n",
            "|    Krish| 31|        10| 30000|\n",
            "|Sudhanshu| 30|         8| 25000|\n",
            "|    Sunny| 29|         4| 20000|\n",
            "|     Paul| 24|         3| 20000|\n",
            "|   Harsha| 21|         1| 15000|\n",
            "|  Shubham| 23|         2| 18000|\n",
            "+---------+---+----------+------+\n",
            "\n"
          ]
        }
      ]
    },
    {
      "cell_type": "code",
      "source": [
        "from pyspark.ml.feature import VectorAssembler\n",
        "feature_assember = VectorAssembler(inputCols=[\"age\",\"Experience\"], outputCol=\"Independent Features\")"
      ],
      "metadata": {
        "id": "-S07rc8pDLR4"
      },
      "execution_count": 91,
      "outputs": []
    },
    {
      "cell_type": "code",
      "source": [
        "output = feature_assember.transform(dft)\n",
        "output.show()"
      ],
      "metadata": {
        "colab": {
          "base_uri": "https://localhost:8080/"
        },
        "id": "6dEHiirGDWix",
        "outputId": "08f8299a-2517-45b8-fa6e-cef78079fedd"
      },
      "execution_count": 92,
      "outputs": [
        {
          "output_type": "stream",
          "name": "stdout",
          "text": [
            "+---------+---+----------+------+--------------------+\n",
            "|     Name|age|Experience|Salary|Independent Features|\n",
            "+---------+---+----------+------+--------------------+\n",
            "|    Krish| 31|        10| 30000|         [31.0,10.0]|\n",
            "|Sudhanshu| 30|         8| 25000|          [30.0,8.0]|\n",
            "|    Sunny| 29|         4| 20000|          [29.0,4.0]|\n",
            "|     Paul| 24|         3| 20000|          [24.0,3.0]|\n",
            "|   Harsha| 21|         1| 15000|          [21.0,1.0]|\n",
            "|  Shubham| 23|         2| 18000|          [23.0,2.0]|\n",
            "+---------+---+----------+------+--------------------+\n",
            "\n"
          ]
        }
      ]
    },
    {
      "cell_type": "code",
      "source": [
        "output.columns"
      ],
      "metadata": {
        "colab": {
          "base_uri": "https://localhost:8080/"
        },
        "id": "uKV1HweRDaMp",
        "outputId": "fded58d2-d284-4784-e02e-cb431b0cbc83"
      },
      "execution_count": 93,
      "outputs": [
        {
          "output_type": "execute_result",
          "data": {
            "text/plain": [
              "['Name', 'age', 'Experience', 'Salary', 'Independent Features']"
            ]
          },
          "metadata": {},
          "execution_count": 93
        }
      ]
    },
    {
      "cell_type": "code",
      "source": [
        "finalized_data = output.select(\"Independent Features\", \"Salary\")\n",
        "finalized_data.show()"
      ],
      "metadata": {
        "colab": {
          "base_uri": "https://localhost:8080/"
        },
        "id": "aov40cl1DeuN",
        "outputId": "9ca4d888-8cfb-4113-aaad-4f4ac34789b7"
      },
      "execution_count": 94,
      "outputs": [
        {
          "output_type": "stream",
          "name": "stdout",
          "text": [
            "+--------------------+------+\n",
            "|Independent Features|Salary|\n",
            "+--------------------+------+\n",
            "|         [31.0,10.0]| 30000|\n",
            "|          [30.0,8.0]| 25000|\n",
            "|          [29.0,4.0]| 20000|\n",
            "|          [24.0,3.0]| 20000|\n",
            "|          [21.0,1.0]| 15000|\n",
            "|          [23.0,2.0]| 18000|\n",
            "+--------------------+------+\n",
            "\n"
          ]
        }
      ]
    },
    {
      "cell_type": "code",
      "source": [
        "from pyspark.ml.regression import LinearRegression\n",
        "\n",
        "# train test split\n",
        "train_data,test_data=finalized_data.randomSplit([0.75,0.25])\n",
        "\n",
        "# Train the LinearRegression Model\n",
        "regressor=LinearRegression(featuresCol='Independent Features', labelCol='Salary')\n",
        "regressor=regressor.fit(train_data)"
      ],
      "metadata": {
        "id": "MLG2hp7RDiwt"
      },
      "execution_count": 95,
      "outputs": []
    },
    {
      "cell_type": "code",
      "source": [
        "regressor.coefficients"
      ],
      "metadata": {
        "colab": {
          "base_uri": "https://localhost:8080/"
        },
        "id": "wf9vR-0ADqsg",
        "outputId": "0d883538-3188-494a-f2c3-3ff1d3a055e0"
      },
      "execution_count": 96,
      "outputs": [
        {
          "output_type": "execute_result",
          "data": {
            "text/plain": [
              "DenseVector([-383.9733, 1711.1853])"
            ]
          },
          "metadata": {},
          "execution_count": 96
        }
      ]
    },
    {
      "cell_type": "code",
      "source": [
        "regressor.intercept"
      ],
      "metadata": {
        "colab": {
          "base_uri": "https://localhost:8080/"
        },
        "id": "f-fbckN6DuC_",
        "outputId": "bd8d3081-013e-49d4-cb25-4fbd045b0fb1"
      },
      "execution_count": 97,
      "outputs": [
        {
          "output_type": "execute_result",
          "data": {
            "text/plain": [
              "23998.330550919385"
            ]
          },
          "metadata": {},
          "execution_count": 97
        }
      ]
    },
    {
      "cell_type": "code",
      "source": [
        "pred_results = regressor.evaluate(test_data)"
      ],
      "metadata": {
        "id": "fCVhPAWRDvxl"
      },
      "execution_count": 98,
      "outputs": []
    },
    {
      "cell_type": "code",
      "source": [
        "pred_results.predictions.show()"
      ],
      "metadata": {
        "colab": {
          "base_uri": "https://localhost:8080/"
        },
        "id": "0wLoN85vDyBh",
        "outputId": "2d071d75-4e3c-47cb-cf6f-60966848a4e2"
      },
      "execution_count": 99,
      "outputs": [
        {
          "output_type": "stream",
          "name": "stdout",
          "text": [
            "+--------------------+------+------------------+\n",
            "|Independent Features|Salary|        prediction|\n",
            "+--------------------+------+------------------+\n",
            "|          [21.0,1.0]| 15000| 17646.07679465793|\n",
            "|          [23.0,2.0]| 18000|18589.315525876566|\n",
            "+--------------------+------+------------------+\n",
            "\n"
          ]
        }
      ]
    },
    {
      "cell_type": "code",
      "source": [
        "pred_results.meanAbsoluteError,pred_results.meanSquaredError"
      ],
      "metadata": {
        "colab": {
          "base_uri": "https://localhost:8080/"
        },
        "id": "ttOOstOHDzzn",
        "outputId": "12b93862-883a-428f-ac76-0cae68fdcc3d"
      },
      "execution_count": 100,
      "outputs": [
        {
          "output_type": "execute_result",
          "data": {
            "text/plain": [
              "(1617.6961602672473, 3674507.5961331767)"
            ]
          },
          "metadata": {},
          "execution_count": 100
        }
      ]
    },
    {
      "cell_type": "code",
      "source": [],
      "metadata": {
        "id": "yKXl-eFPD3FQ"
      },
      "execution_count": null,
      "outputs": []
    }
  ]
}